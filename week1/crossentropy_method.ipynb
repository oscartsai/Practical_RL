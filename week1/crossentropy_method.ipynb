{
 "cells": [
  {
   "cell_type": "markdown",
   "metadata": {},
   "source": [
    "# Crossentropy method\n",
    "\n",
    "This notebook will teach you to solve reinforcement learning with crossentropy method."
   ]
  },
  {
   "cell_type": "code",
   "execution_count": 1,
   "metadata": {},
   "outputs": [
    {
     "name": "stdout",
     "output_type": "stream",
     "text": [
      "Starting virtual X frame buffer: Xvfb.\n",
      "env: DISPLAY=:1\n"
     ]
    }
   ],
   "source": [
    "#XVFB will be launched if you run on a server\n",
    "import os\n",
    "if type(os.environ.get(\"DISPLAY\")) is not str or len(os.environ.get(\"DISPLAY\"))==0:\n",
    "    !bash ../xvfb start\n",
    "    %env DISPLAY=:1"
   ]
  },
  {
   "cell_type": "code",
   "execution_count": 2,
   "metadata": {},
   "outputs": [
    {
     "name": "stderr",
     "output_type": "stream",
     "text": [
      "[2017-07-24 14:07:41,568] Making new env: Taxi-v2\n"
     ]
    },
    {
     "name": "stdout",
     "output_type": "stream",
     "text": [
      "+---------+\n",
      "|\u001b[35mR\u001b[0m: | : :G|\n",
      "| : : : : |\n",
      "| : : : : |\n",
      "| | : | : |\n",
      "|\u001b[34;1m\u001b[43mY\u001b[0m\u001b[0m| : |B: |\n",
      "+---------+\n",
      "\n"
     ]
    }
   ],
   "source": [
    "import gym\n",
    "import numpy as np, pandas as pd\n",
    "\n",
    "env = gym.make(\"Taxi-v2\")\n",
    "env.reset()\n",
    "env.render()"
   ]
  },
  {
   "cell_type": "code",
   "execution_count": 3,
   "metadata": {},
   "outputs": [
    {
     "name": "stdout",
     "output_type": "stream",
     "text": [
      "n_states=500, n_actions=6\n"
     ]
    }
   ],
   "source": [
    "n_states = env.observation_space.n\n",
    "n_actions = env.action_space.n\n",
    "\n",
    "print(\"n_states=%i, n_actions=%i\"%(n_states,n_actions))"
   ]
  },
  {
   "cell_type": "markdown",
   "metadata": {},
   "source": [
    "# Create stochastic policy\n",
    "\n",
    "This time our policy should be a probability distribution.\n",
    "\n",
    "```policy[s,a] = P(take action a | in state s)```\n",
    "\n",
    "Since we still use integer state and action representations, you can use a 2-dimensional array to represent the policy.\n",
    "\n",
    "Please initialize policy __uniformly__, that is, probabililities of all actions should be equal.\n"
   ]
  },
  {
   "cell_type": "code",
   "execution_count": 4,
   "metadata": {
    "collapsed": true
   },
   "outputs": [],
   "source": [
    "import numpy as np\n",
    "# <your code here! Create an array to store action probabilities>\n",
    "policy = np.ones((n_states, n_actions))/n_actions"
   ]
  },
  {
   "cell_type": "code",
   "execution_count": 5,
   "metadata": {
    "collapsed": true
   },
   "outputs": [],
   "source": [
    "assert type(policy) in (np.ndarray,np.matrix)\n",
    "assert np.allclose(policy,1./n_actions)\n",
    "assert np.allclose(np.sum(policy,axis=1), 1)"
   ]
  },
  {
   "cell_type": "markdown",
   "metadata": {},
   "source": [
    "# Play the game\n",
    "\n",
    "Just like before, but we also record all states and actions we took."
   ]
  },
  {
   "cell_type": "code",
   "execution_count": 6,
   "metadata": {
    "collapsed": true
   },
   "outputs": [],
   "source": [
    "def generate_session(t_max=10**4):\n",
    "    \"\"\"\n",
    "    Play game until end or for t_max ticks.\n",
    "    returns: list of states, list of actions and sum of rewards\n",
    "    \"\"\"\n",
    "    states,actions = [],[]\n",
    "    total_reward = 0.\n",
    "    \n",
    "    s = env.reset()\n",
    "    \n",
    "    for t in range(t_max):\n",
    "        \n",
    "        # <pick action from policy (at random with probabilities)>\n",
    "        a = np.random.choice(n_actions, 1, p=policy[s])[0]\n",
    "\n",
    "        new_s,r,done,info = env.step(a)\n",
    "        \n",
    "        # <record prev state, action and add up reward to states,actions and total_reward accordingly>\n",
    "        states.append(s)\n",
    "        actions.append(a)\n",
    "        total_reward += r\n",
    "        \n",
    "        s = new_s\n",
    "        if r == 20:\n",
    "            break\n",
    "    return states,actions,total_reward\n",
    "        "
   ]
  },
  {
   "cell_type": "code",
   "execution_count": 7,
   "metadata": {
    "collapsed": true
   },
   "outputs": [],
   "source": [
    "s,a,r = generate_session()\n",
    "assert type(s) == type(a) == list\n",
    "assert len(s) == len(a)\n",
    "assert type(r) is float"
   ]
  },
  {
   "cell_type": "markdown",
   "metadata": {},
   "source": [
    "# Training loop\n",
    "Generate sessions, select N best and fit to those."
   ]
  },
  {
   "cell_type": "code",
   "execution_count": 8,
   "metadata": {},
   "outputs": [
    {
     "name": "stdout",
     "output_type": "stream",
     "text": [
      "CPU times: user 38.4 s, sys: 80 ms, total: 38.5 s\n",
      "Wall time: 38.5 s\n",
      "mean reward = -9501.28000\tthreshold = 125.0\n",
      "CPU times: user 11.4 s, sys: 0 ns, total: 11.4 s\n",
      "Wall time: 11.4 s\n",
      "mean reward = -3082.11600\tthreshold = 125.0\n",
      "CPU times: user 4.01 s, sys: 10 ms, total: 4.02 s\n",
      "Wall time: 4.03 s\n",
      "mean reward = -1160.59200\tthreshold = 125.0\n",
      "CPU times: user 1.95 s, sys: 0 ns, total: 1.95 s\n",
      "Wall time: 1.95 s\n",
      "mean reward = -539.65600\tthreshold = 125.0\n",
      "CPU times: user 1.08 s, sys: 0 ns, total: 1.08 s\n",
      "Wall time: 1.08 s\n",
      "mean reward = -277.80400\tthreshold = 125.0\n",
      "CPU times: user 790 ms, sys: 0 ns, total: 790 ms\n",
      "Wall time: 784 ms\n",
      "mean reward = -175.54400\tthreshold = 125.0\n",
      "CPU times: user 640 ms, sys: 0 ns, total: 640 ms\n",
      "Wall time: 639 ms\n",
      "mean reward = -119.09200\tthreshold = 125.0\n",
      "CPU times: user 500 ms, sys: 0 ns, total: 500 ms\n",
      "Wall time: 505 ms\n",
      "mean reward = -83.53200\tthreshold = 125.0\n",
      "CPU times: user 450 ms, sys: 0 ns, total: 450 ms\n",
      "Wall time: 454 ms\n",
      "mean reward = -65.66400\tthreshold = 125.0\n",
      "CPU times: user 430 ms, sys: 0 ns, total: 430 ms\n",
      "Wall time: 426 ms\n",
      "mean reward = -56.58400\tthreshold = 125.0\n",
      "CPU times: user 560 ms, sys: 0 ns, total: 560 ms\n",
      "Wall time: 558 ms\n",
      "mean reward = -104.94000\tthreshold = 125.0\n",
      "CPU times: user 1.71 s, sys: 0 ns, total: 1.71 s\n",
      "Wall time: 1.71 s\n",
      "mean reward = -443.84000\tthreshold = 125.0\n",
      "CPU times: user 1.04 s, sys: 0 ns, total: 1.04 s\n",
      "Wall time: 1.04 s\n",
      "mean reward = -239.86800\tthreshold = 125.0\n",
      "CPU times: user 1.12 s, sys: 0 ns, total: 1.12 s\n",
      "Wall time: 1.12 s\n",
      "mean reward = -264.24000\tthreshold = 125.0\n",
      "CPU times: user 980 ms, sys: 0 ns, total: 980 ms\n",
      "Wall time: 987 ms\n",
      "mean reward = -229.23600\tthreshold = 125.0\n",
      "CPU times: user 890 ms, sys: 0 ns, total: 890 ms\n",
      "Wall time: 888 ms\n",
      "mean reward = -208.73200\tthreshold = 125.0\n",
      "CPU times: user 1.45 s, sys: 0 ns, total: 1.45 s\n",
      "Wall time: 1.45 s\n",
      "mean reward = -372.54400\tthreshold = 125.0\n",
      "CPU times: user 620 ms, sys: 0 ns, total: 620 ms\n",
      "Wall time: 630 ms\n",
      "mean reward = -117.27200\tthreshold = 125.0\n",
      "CPU times: user 690 ms, sys: 0 ns, total: 690 ms\n",
      "Wall time: 689 ms\n",
      "mean reward = -138.51200\tthreshold = 125.0\n",
      "CPU times: user 1.06 s, sys: 0 ns, total: 1.06 s\n",
      "Wall time: 1.06 s\n",
      "mean reward = -248.59200\tthreshold = 125.0\n",
      "CPU times: user 1.14 s, sys: 0 ns, total: 1.14 s\n",
      "Wall time: 1.14 s\n",
      "mean reward = -276.23600\tthreshold = 125.0\n",
      "CPU times: user 1.08 s, sys: 0 ns, total: 1.08 s\n",
      "Wall time: 1.08 s\n",
      "mean reward = -251.79200\tthreshold = 125.0\n",
      "CPU times: user 1.73 s, sys: 0 ns, total: 1.73 s\n",
      "Wall time: 1.73 s\n",
      "mean reward = -444.20000\tthreshold = 125.0\n",
      "CPU times: user 1.42 s, sys: 0 ns, total: 1.42 s\n",
      "Wall time: 1.42 s\n",
      "mean reward = -357.68800\tthreshold = 125.0\n",
      "CPU times: user 1.35 s, sys: 0 ns, total: 1.35 s\n",
      "Wall time: 1.35 s\n",
      "mean reward = -351.22800\tthreshold = 125.0\n",
      "CPU times: user 1.47 s, sys: 0 ns, total: 1.47 s\n",
      "Wall time: 1.48 s\n",
      "mean reward = -375.78000\tthreshold = 125.0\n",
      "CPU times: user 1.39 s, sys: 0 ns, total: 1.39 s\n",
      "Wall time: 1.39 s\n",
      "mean reward = -357.69600\tthreshold = 125.0\n",
      "CPU times: user 1.59 s, sys: 0 ns, total: 1.59 s\n",
      "Wall time: 1.59 s\n",
      "mean reward = -424.25600\tthreshold = 125.0\n",
      "CPU times: user 1.2 s, sys: 0 ns, total: 1.2 s\n",
      "Wall time: 1.19 s\n",
      "mean reward = -304.53600\tthreshold = 125.0\n",
      "CPU times: user 1.44 s, sys: 0 ns, total: 1.44 s\n",
      "Wall time: 1.43 s\n",
      "mean reward = -367.02000\tthreshold = 125.0\n",
      "CPU times: user 1.75 s, sys: 0 ns, total: 1.75 s\n",
      "Wall time: 1.75 s\n",
      "mean reward = -461.00000\tthreshold = 125.0\n",
      "CPU times: user 670 ms, sys: 0 ns, total: 670 ms\n",
      "Wall time: 675 ms\n",
      "mean reward = -139.34400\tthreshold = 125.0\n",
      "CPU times: user 630 ms, sys: 0 ns, total: 630 ms\n",
      "Wall time: 631 ms\n",
      "mean reward = -129.68000\tthreshold = 125.0\n",
      "CPU times: user 850 ms, sys: 0 ns, total: 850 ms\n",
      "Wall time: 846 ms\n",
      "mean reward = -191.66000\tthreshold = 125.0\n",
      "CPU times: user 990 ms, sys: 0 ns, total: 990 ms\n",
      "Wall time: 984 ms\n",
      "mean reward = -227.98400\tthreshold = 125.0\n",
      "CPU times: user 1.68 s, sys: 0 ns, total: 1.68 s\n",
      "Wall time: 1.68 s\n",
      "mean reward = -432.56000\tthreshold = 125.0\n",
      "CPU times: user 860 ms, sys: 0 ns, total: 860 ms\n",
      "Wall time: 868 ms\n",
      "mean reward = -198.43600\tthreshold = 125.0\n",
      "CPU times: user 760 ms, sys: 0 ns, total: 760 ms\n",
      "Wall time: 764 ms\n",
      "mean reward = -167.58400\tthreshold = 125.0\n",
      "CPU times: user 1.32 s, sys: 0 ns, total: 1.32 s\n",
      "Wall time: 1.32 s\n",
      "mean reward = -326.92000\tthreshold = 125.0\n",
      "CPU times: user 990 ms, sys: 0 ns, total: 990 ms\n",
      "Wall time: 991 ms\n",
      "mean reward = -242.24000\tthreshold = 125.0\n",
      "CPU times: user 1.89 s, sys: 0 ns, total: 1.89 s\n",
      "Wall time: 1.89 s\n",
      "mean reward = -513.98400\tthreshold = 125.0\n",
      "CPU times: user 860 ms, sys: 0 ns, total: 860 ms\n",
      "Wall time: 862 ms\n",
      "mean reward = -201.91600\tthreshold = 125.0\n",
      "CPU times: user 1.1 s, sys: 0 ns, total: 1.1 s\n",
      "Wall time: 1.1 s\n",
      "mean reward = -276.70800\tthreshold = 125.0\n",
      "CPU times: user 910 ms, sys: 0 ns, total: 910 ms\n",
      "Wall time: 918 ms\n",
      "mean reward = -215.14400\tthreshold = 125.0\n",
      "CPU times: user 760 ms, sys: 0 ns, total: 760 ms\n",
      "Wall time: 762 ms\n",
      "mean reward = -178.08400\tthreshold = 125.0\n",
      "CPU times: user 2.08 s, sys: 0 ns, total: 2.08 s\n",
      "Wall time: 2.09 s\n",
      "mean reward = -571.01600\tthreshold = 125.0\n",
      "CPU times: user 1.14 s, sys: 0 ns, total: 1.14 s\n",
      "Wall time: 1.14 s\n",
      "mean reward = -284.88400\tthreshold = 125.0\n",
      "CPU times: user 2 s, sys: 0 ns, total: 2 s\n",
      "Wall time: 2 s\n",
      "mean reward = -535.51600\tthreshold = 125.0\n",
      "CPU times: user 2.11 s, sys: 0 ns, total: 2.11 s\n",
      "Wall time: 2.11 s\n",
      "mean reward = -578.36800\tthreshold = 125.0\n",
      "CPU times: user 1.84 s, sys: 0 ns, total: 1.84 s\n",
      "Wall time: 1.84 s\n",
      "mean reward = -434.98400\tthreshold = 125.0\n",
      "CPU times: user 890 ms, sys: 0 ns, total: 890 ms\n",
      "Wall time: 887 ms\n",
      "mean reward = -209.91600\tthreshold = 125.0\n",
      "CPU times: user 1.41 s, sys: 0 ns, total: 1.41 s\n",
      "Wall time: 1.41 s\n",
      "mean reward = -355.37600\tthreshold = 125.0\n",
      "CPU times: user 620 ms, sys: 0 ns, total: 620 ms\n",
      "Wall time: 621 ms\n",
      "mean reward = -127.72000\tthreshold = 125.0\n",
      "CPU times: user 1.06 s, sys: 0 ns, total: 1.06 s\n",
      "Wall time: 1.06 s\n",
      "mean reward = -254.39600\tthreshold = 125.0\n",
      "CPU times: user 1.02 s, sys: 0 ns, total: 1.02 s\n",
      "Wall time: 1.02 s\n",
      "mean reward = -239.66800\tthreshold = 125.0\n",
      "CPU times: user 1.99 s, sys: 0 ns, total: 1.99 s\n",
      "Wall time: 1.99 s\n",
      "mean reward = -523.70800\tthreshold = 125.0\n",
      "CPU times: user 1.05 s, sys: 0 ns, total: 1.05 s\n",
      "Wall time: 1.05 s\n",
      "mean reward = -251.42400\tthreshold = 125.0\n",
      "CPU times: user 1.68 s, sys: 0 ns, total: 1.68 s\n",
      "Wall time: 1.68 s\n",
      "mean reward = -447.77600\tthreshold = 125.0\n",
      "CPU times: user 1.07 s, sys: 10 ms, total: 1.08 s\n",
      "Wall time: 1.08 s\n",
      "mean reward = -272.95600\tthreshold = 125.0\n",
      "CPU times: user 1.36 s, sys: 0 ns, total: 1.36 s\n",
      "Wall time: 1.36 s\n",
      "mean reward = -350.62800\tthreshold = 125.0\n",
      "CPU times: user 970 ms, sys: 0 ns, total: 970 ms\n",
      "Wall time: 964 ms\n",
      "mean reward = -227.80400\tthreshold = 125.0\n",
      "CPU times: user 1.14 s, sys: 0 ns, total: 1.14 s\n",
      "Wall time: 1.13 s\n",
      "mean reward = -282.47200\tthreshold = 125.0\n",
      "CPU times: user 1.37 s, sys: 0 ns, total: 1.37 s\n",
      "Wall time: 1.36 s\n",
      "mean reward = -359.66000\tthreshold = 125.0\n",
      "CPU times: user 1.48 s, sys: 0 ns, total: 1.48 s\n",
      "Wall time: 1.48 s\n",
      "mean reward = -389.04400\tthreshold = 125.0\n",
      "CPU times: user 1.15 s, sys: 20 ms, total: 1.17 s\n",
      "Wall time: 1.17 s\n",
      "mean reward = -285.32800\tthreshold = 125.0\n",
      "CPU times: user 910 ms, sys: 0 ns, total: 910 ms\n",
      "Wall time: 911 ms\n",
      "mean reward = -210.44800\tthreshold = 125.0\n",
      "CPU times: user 1.19 s, sys: 10 ms, total: 1.2 s\n",
      "Wall time: 1.2 s\n",
      "mean reward = -286.24000\tthreshold = 125.0\n",
      "CPU times: user 1.23 s, sys: 90 ms, total: 1.32 s\n",
      "Wall time: 1.31 s\n",
      "mean reward = -308.61200\tthreshold = 125.0\n",
      "CPU times: user 1.08 s, sys: 40 ms, total: 1.12 s\n",
      "Wall time: 1.11 s\n",
      "mean reward = -260.54000\tthreshold = 125.0\n",
      "CPU times: user 1.54 s, sys: 10 ms, total: 1.55 s\n",
      "Wall time: 1.55 s\n",
      "mean reward = -397.93600\tthreshold = 125.0\n",
      "CPU times: user 1.29 s, sys: 30 ms, total: 1.32 s\n",
      "Wall time: 1.32 s\n",
      "mean reward = -317.50000\tthreshold = 125.0\n",
      "CPU times: user 900 ms, sys: 50 ms, total: 950 ms\n",
      "Wall time: 947 ms\n",
      "mean reward = -215.20800\tthreshold = 125.0\n",
      "CPU times: user 1.25 s, sys: 40 ms, total: 1.29 s\n",
      "Wall time: 1.29 s\n",
      "mean reward = -322.32800\tthreshold = 125.0\n",
      "CPU times: user 980 ms, sys: 20 ms, total: 1e+03 ms\n",
      "Wall time: 996 ms\n",
      "mean reward = -228.73600\tthreshold = 125.0\n",
      "CPU times: user 1.26 s, sys: 20 ms, total: 1.28 s\n",
      "Wall time: 1.29 s\n",
      "mean reward = -287.05200\tthreshold = 125.0\n"
     ]
    },
    {
     "name": "stdout",
     "output_type": "stream",
     "text": [
      "CPU times: user 1.32 s, sys: 20 ms, total: 1.34 s\n",
      "Wall time: 1.34 s\n",
      "mean reward = -259.60400\tthreshold = 125.0\n",
      "CPU times: user 1.92 s, sys: 10 ms, total: 1.93 s\n",
      "Wall time: 1.93 s\n",
      "mean reward = -392.24800\tthreshold = 125.0\n",
      "CPU times: user 2.04 s, sys: 10 ms, total: 2.05 s\n",
      "Wall time: 2.05 s\n",
      "mean reward = -422.65600\tthreshold = 125.0\n",
      "CPU times: user 1.54 s, sys: 10 ms, total: 1.55 s\n",
      "Wall time: 1.55 s\n",
      "mean reward = -356.93200\tthreshold = 125.0\n",
      "CPU times: user 1.31 s, sys: 20 ms, total: 1.33 s\n",
      "Wall time: 1.33 s\n",
      "mean reward = -329.26800\tthreshold = 125.0\n",
      "CPU times: user 1.59 s, sys: 20 ms, total: 1.61 s\n",
      "Wall time: 1.61 s\n",
      "mean reward = -364.39200\tthreshold = 125.0\n",
      "CPU times: user 1.21 s, sys: 50 ms, total: 1.26 s\n",
      "Wall time: 1.26 s\n",
      "mean reward = -269.56000\tthreshold = 125.0\n",
      "CPU times: user 1.44 s, sys: 50 ms, total: 1.49 s\n",
      "Wall time: 1.5 s\n",
      "mean reward = -332.58000\tthreshold = 125.0\n",
      "CPU times: user 1.26 s, sys: 0 ns, total: 1.26 s\n",
      "Wall time: 1.26 s\n",
      "mean reward = -233.45200\tthreshold = 125.0\n",
      "CPU times: user 520 ms, sys: 0 ns, total: 520 ms\n",
      "Wall time: 523 ms\n",
      "mean reward = -83.18000\tthreshold = 125.0\n",
      "CPU times: user 2.18 s, sys: 100 ms, total: 2.28 s\n",
      "Wall time: 2.28 s\n",
      "mean reward = -442.02400\tthreshold = 125.0\n",
      "CPU times: user 1.62 s, sys: 10 ms, total: 1.63 s\n",
      "Wall time: 1.63 s\n",
      "mean reward = -356.08800\tthreshold = 125.0\n",
      "CPU times: user 1.85 s, sys: 0 ns, total: 1.85 s\n",
      "Wall time: 1.85 s\n",
      "mean reward = -469.65600\tthreshold = 125.0\n",
      "CPU times: user 1.89 s, sys: 0 ns, total: 1.89 s\n",
      "Wall time: 1.89 s\n",
      "mean reward = -487.54000\tthreshold = 125.0\n",
      "CPU times: user 900 ms, sys: 0 ns, total: 900 ms\n",
      "Wall time: 903 ms\n",
      "mean reward = -197.91600\tthreshold = 125.0\n",
      "CPU times: user 1.55 s, sys: 10 ms, total: 1.56 s\n",
      "Wall time: 1.56 s\n",
      "mean reward = -385.50000\tthreshold = 125.0\n",
      "CPU times: user 1.17 s, sys: 50 ms, total: 1.22 s\n",
      "Wall time: 1.22 s\n",
      "mean reward = -290.10000\tthreshold = 125.0\n",
      "CPU times: user 1.35 s, sys: 0 ns, total: 1.35 s\n",
      "Wall time: 1.34 s\n",
      "mean reward = -329.29600\tthreshold = 125.0\n",
      "CPU times: user 950 ms, sys: 20 ms, total: 970 ms\n",
      "Wall time: 968 ms\n",
      "mean reward = -217.94400\tthreshold = 125.0\n",
      "CPU times: user 760 ms, sys: 40 ms, total: 800 ms\n",
      "Wall time: 803 ms\n",
      "mean reward = -134.31200\tthreshold = 125.0\n",
      "CPU times: user 820 ms, sys: 0 ns, total: 820 ms\n",
      "Wall time: 825 ms\n",
      "mean reward = -169.84400\tthreshold = 125.0\n",
      "CPU times: user 670 ms, sys: 40 ms, total: 710 ms\n",
      "Wall time: 707 ms\n",
      "mean reward = -136.97200\tthreshold = 125.0\n",
      "CPU times: user 1.46 s, sys: 10 ms, total: 1.47 s\n",
      "Wall time: 1.47 s\n",
      "mean reward = -366.90800\tthreshold = 125.0\n",
      "CPU times: user 1.43 s, sys: 50 ms, total: 1.48 s\n",
      "Wall time: 1.48 s\n",
      "mean reward = -364.95200\tthreshold = 125.0\n",
      "CPU times: user 990 ms, sys: 20 ms, total: 1.01 s\n",
      "Wall time: 1.02 s\n",
      "mean reward = -236.92800\tthreshold = 125.0\n"
     ]
    }
   ],
   "source": [
    "n_samples = 250  #sample this many samples\n",
    "percentile = 50  #take this percent of session with highest rewards\n",
    "smoothing = 0.1  #add this thing to all counts for stability\n",
    "\n",
    "for i in range(100):\n",
    "    \n",
    "    # <generate n_samples sessions>\n",
    "    %time sessions = [generate_session() for _ in range(n_samples)]\n",
    "\n",
    "    batch_states,batch_actions,batch_rewards = map(np.array,zip(*sessions))\n",
    "\n",
    "    #batch_states: a list of lists of states in each session\n",
    "    #batch_actions: a list of lists of actions in each session\n",
    "    #batch_rewards: a list of floats - total rewards at each session\n",
    "    \n",
    "    # <select percentile of your samples>\n",
    "    threshold = int(n_samples*percentile/100)\n",
    "    ids = np.argsort(batch_rewards)[-threshold:]\n",
    "    \n",
    "    # <select states from sessions where rewards are above threshold>\n",
    "    elite_states = batch_states[ids]\n",
    "    \n",
    "    # <select actions from sessions where rewards are above threshold>\n",
    "    elite_actions = batch_actions[ids]\n",
    "    \n",
    "    elite_states, elite_actions = map(np.concatenate,[elite_states,elite_actions])\n",
    "    #hint on task above: use np.percentile and numpy-style indexing\n",
    "    \n",
    "    #count actions from elite states\n",
    "    elite_counts = np.zeros_like(policy)+smoothing\n",
    "    \n",
    "    # <count all state-action occurences in elite_states and elite_actions>\n",
    "    for i in range(len(elite_states)):\n",
    "        elite_counts[elite_states[i], elite_actions[i]] += 1\n",
    "\n",
    "    policy = elite_counts/np.sum(elite_counts, axis=1, keepdims=True)\n",
    "    \n",
    "    print(\"mean reward = %.5f\\tthreshold = %.1f\"%(np.mean(batch_rewards),threshold))"
   ]
  },
  {
   "cell_type": "markdown",
   "metadata": {},
   "source": [
    "# Approximate (deep) crossentropy method\n",
    "\n",
    "In this section we will train a neural network policy for continuous action space game"
   ]
  },
  {
   "cell_type": "code",
   "execution_count": 17,
   "metadata": {},
   "outputs": [
    {
     "name": "stderr",
     "output_type": "stream",
     "text": [
      "[2017-07-24 14:54:13,942] Making new env: CartPole-v0\n"
     ]
    },
    {
     "data": {
      "text/plain": [
       "<matplotlib.image.AxesImage at 0x7f298ee3c7b8>"
      ]
     },
     "execution_count": 17,
     "metadata": {},
     "output_type": "execute_result"
    },
    {
     "data": {
      "image/png": "[encoded data removed]",
      "text/plain": [
       "<matplotlib.figure.Figure at 0x7f298ed26dd8>"
      ]
     },
     "metadata": {},
     "output_type": "display_data"
    }
   ],
   "source": [
    "import matplotlib.pyplot as plt\n",
    "%matplotlib inline\n",
    "\n",
    "env = gym.make(\"CartPole-v0\").env\n",
    "env.reset()\n",
    "n_actions = env.action_space.n\n",
    "\n",
    "plt.imshow(env.render(\"rgb_array\"))"
   ]
  },
  {
   "cell_type": "code",
   "execution_count": 18,
   "metadata": {},
   "outputs": [
    {
     "data": {
      "text/plain": [
       "2"
      ]
     },
     "execution_count": 18,
     "metadata": {},
     "output_type": "execute_result"
    }
   ],
   "source": [
    "n_actions"
   ]
  },
  {
   "cell_type": "code",
   "execution_count": 19,
   "metadata": {},
   "outputs": [
    {
     "name": "stderr",
     "output_type": "stream",
     "text": [
      "/usr/local/lib/python3.5/dist-packages/sklearn/neural_network/multilayer_perceptron.py:563: ConvergenceWarning: Stochastic Optimizer: Maximum iterations reached and the optimization hasn't converged yet.\n",
      "  % (), ConvergenceWarning)\n"
     ]
    }
   ],
   "source": [
    "#create agent\n",
    "from sklearn.neural_network import MLPClassifier\n",
    "agent = MLPClassifier(hidden_layer_sizes=(20,20),\n",
    "                      activation='tanh',\n",
    "                      warm_start=True, #keep progress between .fit(...) calls\n",
    "                      max_iter=1 #make only 1 iteration on each .fit(...)\n",
    "                     )\n",
    "#initialize agent to the dimension of state an amount of actions\n",
    "agent.fit([env.reset()]*n_actions,range(n_actions));\n"
   ]
  },
  {
   "cell_type": "code",
   "execution_count": 20,
   "metadata": {
    "collapsed": true
   },
   "outputs": [],
   "source": [
    "def generate_session(t_max=1000):\n",
    "    \n",
    "    states,actions = [],[]\n",
    "    total_reward = 0\n",
    "    \n",
    "    s = env.reset()\n",
    "    \n",
    "    for t in range(t_max):\n",
    "        \n",
    "        #predict array of action probabilities\n",
    "        probs = agent.predict_proba([s])[0]\n",
    "        \n",
    "        # <sample action with such probabilities>\n",
    "        a = np.random.choice(n_actions, 1, p=probs)[0]\n",
    "        \n",
    "        new_s,r,done,info = env.step(a)\n",
    "        \n",
    "        #record sessions like you did before\n",
    "        states.append(s)\n",
    "        actions.append(a)\n",
    "        total_reward+=r\n",
    "        \n",
    "        s = new_s\n",
    "        if done: break\n",
    "    return states,actions,total_reward\n",
    "        "
   ]
  },
  {
   "cell_type": "code",
   "execution_count": 25,
   "metadata": {},
   "outputs": [
    {
     "name": "stdout",
     "output_type": "stream",
     "text": [
      "(70,) (70,)\n",
      "(5735, 4) (5735,)\n",
      "mean reward = 68.97000\tthreshold = 70.0\n"
     ]
    }
   ],
   "source": [
    "n_samples = 100\n",
    "percentile = 70\n",
    "smoothing = 0.01\n",
    "\n",
    "for i in range(100):\n",
    "    #generate new sessions\n",
    "    sessions = [generate_session() for _ in range(n_samples)]\n",
    "\n",
    "    batch_states,batch_actions,batch_rewards = map(np.array,zip(*sessions))\n",
    "    #batch_states: a list of lists of states in each session\n",
    "    #batch_actions: a list of lists of actions in each session\n",
    "    #batch_rewards: a list of floats - total rewards at each session\n",
    "\n",
    "    # <select percentile of your samples>\n",
    "    threshold = int(n_samples*percentile/100)\n",
    "    ids = np.argsort(batch_rewards)[-threshold:]\n",
    "    \n",
    "    # <select states from sessions where rewards are above threshold>\n",
    "    elite_states = batch_states[ids]\n",
    "    # <select actions from sessions where rewards are above threshold>\n",
    "    elite_actions = batch_actions[ids]\n",
    "    # print(elite_states.shape, elite_actions.shape)\n",
    "    \n",
    "    elite_states, elite_actions = map(np.concatenate,[elite_states,elite_actions])\n",
    "    #elite_states: a list of states from top games\n",
    "    #elite_actions: a list of actions from top games\n",
    "    # print(elite_states.shape, elite_actions.shape)\n",
    "    # <fit agent to predict elite_actions(y) from elite_states(X)>\n",
    "    agent.fit(elite_states, elite_actions);\n",
    "\n",
    "    print(\"mean reward = %.5f\\tthreshold = %.1f\"%(np.mean(batch_rewards),threshold))"
   ]
  },
  {
   "cell_type": "markdown",
   "metadata": {},
   "source": [
    "# Results"
   ]
  },
  {
   "cell_type": "code",
   "execution_count": 15,
   "metadata": {},
   "outputs": [
    {
     "name": "stderr",
     "output_type": "stream",
     "text": [
      "[2017-07-24 14:48:38,619] Making new env: CartPole-v0\n",
      "[2017-07-24 14:48:38,624] Creating monitor directory videos\n",
      "[2017-07-24 14:48:38,649] Starting new video recorder writing to /notebooks/week1/videos/openaigym.video.0.40.video000000.mp4\n",
      "[2017-07-24 14:48:41,530] Starting new video recorder writing to /notebooks/week1/videos/openaigym.video.0.40.video000001.mp4\n",
      "[2017-07-24 14:48:44,026] Starting new video recorder writing to /notebooks/week1/videos/openaigym.video.0.40.video000008.mp4\n",
      "[2017-07-24 14:48:46,582] Starting new video recorder writing to /notebooks/week1/videos/openaigym.video.0.40.video000027.mp4\n",
      "[2017-07-24 14:48:49,908] Starting new video recorder writing to /notebooks/week1/videos/openaigym.video.0.40.video000064.mp4\n",
      "[2017-07-24 14:48:52,978] Finished writing results. You can upload them to the scoreboard via gym.upload('/notebooks/week1/videos')\n"
     ]
    }
   ],
   "source": [
    "#record sessions\n",
    "import gym.wrappers\n",
    "env = gym.wrappers.Monitor(gym.make(\"CartPole-v0\"),directory=\"videos\",force=True)\n",
    "sessions = [generate_session() for _ in range(100)]\n",
    "env.close()\n",
    "#upload to gym\n",
    "#gym.upload(\"./videos/\",api_key=\"<your_api_key>\") #you'll need me later"
   ]
  },
  {
   "cell_type": "code",
   "execution_count": null,
   "metadata": {
    "collapsed": true
   },
   "outputs": [],
   "source": [
    "#show video\n",
    "from IPython.display import HTML\n",
    "import os\n",
    "\n",
    "video_names = list(filter(lambda s:s.endswith(\".mp4\"),os.listdir(\"./videos/\")))\n",
    "\n",
    "HTML(\"\"\"\n",
    "<video width=\"640\" height=\"480\" controls>\n",
    "  <source src=\"{}\" type=\"video/mp4\">\n",
    "</video>\n",
    "\"\"\".format(\"./videos/\"+video_names[-1])) #this may or may not be _last_ video. Try other indices"
   ]
  },
  {
   "cell_type": "markdown",
   "metadata": {},
   "source": [
    "# Homework part I\n",
    "\n",
    "### Tabular correntropy method\n",
    "\n",
    "You may have noticed that the taxi problem quickly converges from -10k to aroung -500 score (+- 500) and stays there. This is in part because taxi-v2 has some hard-coded randomness in the environment. Other reason is that the percentile was chosen poorly.\n",
    "\n",
    "### Tasks\n",
    "- __1.1__ (1 pt) Modify the tabular CEM (CrossEntropyMethod) code to plot distribution of rewards and threshold on each tick.\n",
    "- __1.2__ (2 pts) Find out how the algorithm performance changes if you change different percentile and different n_samples.\n",
    "\n",
    "```<YOUR ANSWER>```\n",
    "\n",
    "\n",
    "- __1.3__ (2 pts) Tune the algorithm to end up with positive average score.\n",
    "- __1.4 bonus__ (1 pt) Try to achieve a distribution where 25% or more samples score above +9.0\n",
    "- __1.5 bonus__ (2 pts) Solve and upload [Taxi-v1](https://gym.openai.com/envs/Taxi-v1) to the openai gym.\n",
    "\n",
    "It's okay to modify the existing code.\n"
   ]
  },
  {
   "cell_type": "markdown",
   "metadata": {},
   "source": []
  },
  {
   "cell_type": "markdown",
   "metadata": {},
   "source": [
    "# Homework part II\n",
    "\n",
    "### Deep crossentropy method\n",
    "\n",
    "By this moment you should have got enough score on [CartPole-v0](https://gym.openai.com/envs/CartPole-v0) to consider it solved (see the link). It's time to upload the result and get to something harder.\n",
    "\n",
    "* if you have any trouble with CartPole-v0 and feel stuck, feel free to ask us or your peers for help.\n",
    "\n",
    "### Tasks\n",
    "\n",
    "* __2.1__ Go to the [gym site](http://gym.openai.com/), register and obtain __api key__.\n",
    "* __2.2__ (1 pt) Upload your result to gym via gym.upload (see Results tab above, the line you need is commented)\n",
    "* __2.3__ (3 pts) Pick one of environments: MountainCar-v0 or LunarLander-v2 (or both) and solve it.\n",
    "  * For MountainCar, learn to finish it in __less than 180 steps__\n",
    "  * For LunarLander, learn to get reward of __at least +50__\n",
    "  * See the tips section below, it's kinda important.\n",
    "  \n",
    "  \n",
    "* __2.4__ (1+ pt) Devise a way to speed up training at least 2x against the default version\n",
    "  * Obvious improvement: use [joblib](https://www.google.com/search?client=ubuntu&channel=fs&q=joblib&ie=utf-8&oe=utf-8)\n",
    "  * Try re-using samples from 3-5 last iterations when computing threshold and training\n",
    "  * Experiment with amount of training iterations and learning rate of the neural network (see params)\n",
    "  \n",
    "  \n",
    "### Tips\n",
    "* Gym page: [mountaincar](https://gym.openai.com/envs/MountainCar-v0), [lunarlander](https://gym.openai.com/envs/LunarLander-v2)\n",
    "* Sessions for MountainCar may last for 10k+ ticks. Make sure ```t_max``` param is at least 10k.\n",
    " * Also it may be a good idea to cut rewards via \">\" and not \">=\". If 90% of your sessions get reward of -10k and 20% are better, than if you use percentile 20% as threshold, R >= threshold __fails cut off bad sessions__ whule R > threshold works alright.\n",
    "* _issue with gym_: Some versions of gym limit game time by 200 ticks. This will prevent cem training in most cases. Make sure your agent is able to play for the specified __t_max__, and if it isn't, try `env = gym.make(\"MountainCar-v0\").env` or otherwise get rid of TimeLimit wrapper.\n",
    "* If you use old _swig_ lib for LunarLander-v2, you may get an error. See this [issue](https://github.com/openai/gym/issues/100) for solution.\n",
    "* If it won't train it's a good idea to plot reward distribution and record sessions: they may give you some clue. If they don't, call course staff :)\n",
    "* 20-neuron network is probably not enough, feel free to experiment.\n",
    "* __Please upload the results to openai gym and send links to all submissions in the e-mail__\n",
    "\n",
    "### Bonus tasks\n",
    "\n",
    "* __2.5 bonus__ Try to find a network architecture and training params that solve __both__ environments above (_Points depend on implementation_)\n",
    "\n",
    "* __2.6 bonus__ Solve continuous action space task with `MLPRegressor` or similar.\n",
    "  * [MountainCarContinuous-v0](https://gym.openai.com/envs/MountainCarContinuous-v0), [LunarLanderContinuous-v2](https://gym.openai.com/envs/LunarLanderContinuous-v2) (4+ points if it works)\n",
    "  \n",
    "* __2.7 bonus__ Use any deep learning framework of your choice to implement policy-gradient (see lectures) on any of those envs (4 +1 per env):\n",
    "  * CartPole-v0\n",
    "  * MountainCar-v0\n",
    "  * LunarLander-v2\n",
    "  * See __tips on policy gradient__ below.\n",
    "  \n",
    "\n",
    "* __2.8 bonus__ take your favorite deep learning framework and try to get above random in [Atari Breakout](https://gym.openai.com/envs/Breakout-v0) with crossentropy method over a convolutional network.\n",
    "  * Expect at least +10 points if you get this up and running, no deadlines apply ! \n",
    "  * __See tips below on where to start, they're cruicially important__"
   ]
  },
  {
   "cell_type": "markdown",
   "metadata": {},
   "source": [
    "### Tips on policy gradient\n",
    "\n",
    "* The loss function is very similar to crossentropy method. You can get away with using rewards as  __sample_weights__.\n",
    "* If your algorithm converges to a poor strategy, try regularizing with entropy or just somehow prevent agent from picking actions deterministically (e.g. when probs = 0,0,1,0,0)\n",
    "* We will use `lasagne` later in the course so you can try to [learn it](http://lasagne.readthedocs.io/en/latest/user/tutorial.html).\n",
    "* If you don't want to mess with theano just yet, try [keras](https://keras.io/getting-started/sequential-model-guide/) or [mxnet](http://mxnet.io/tutorials/index.html).\n"
   ]
  },
  {
   "cell_type": "markdown",
   "metadata": {},
   "source": [
    " ### Tips on atari breakout"
   ]
  },
  {
   "cell_type": "markdown",
   "metadata": {},
   "source": [
    "* There's all the pre-processing and tuning done for you in the code below\n",
    "* Once you got it working, it's probably a good idea to pre-train with autoencoder or something\n",
    "* We use last 4 frames as observations to account for ball velocity\n",
    "* The code below requires ```pip install Image``` and ```pip install gym[atari]```"
   ]
  },
  {
   "cell_type": "code",
   "execution_count": 1,
   "metadata": {},
   "outputs": [
    {
     "name": "stderr",
     "output_type": "stream",
     "text": [
      "[2017-07-31 11:51:15,450] Making new env: BreakoutDeterministic-v0\n"
     ]
    },
    {
     "data": {
      "text/plain": [
       "Discrete(4)"
      ]
     },
     "execution_count": 1,
     "metadata": {},
     "output_type": "execute_result"
    }
   ],
   "source": [
    "from breakout import make_breakout\n",
    "\n",
    "env = make_breakout()\n",
    "env.action_space"
   ]
  },
  {
   "cell_type": "code",
   "execution_count": 2,
   "metadata": {},
   "outputs": [
    {
     "name": "stdout",
     "output_type": "stream",
     "text": [
      "(4, 64, 64)\n"
     ]
    }
   ],
   "source": [
    "#get the initial state\n",
    "s = env.reset()\n",
    "print (s.shape)"
   ]
  },
  {
   "cell_type": "code",
   "execution_count": 3,
   "metadata": {},
   "outputs": [
    {
     "data": {
      "text/plain": [
       "<matplotlib.image.AxesImage at 0x7fd4bb0da1d0>"
      ]
     },
     "execution_count": 3,
     "metadata": {},
     "output_type": "execute_result"
    },
    {
     "data": {
      "image/png": "[encoded data removed]",
      "text/plain": [
       "<matplotlib.figure.Figure at 0x7fd4bfdbcfd0>"
      ]
     },
     "metadata": {},
     "output_type": "display_data"
    }
   ],
   "source": [
    "import matplotlib.pyplot as plt\n",
    "%matplotlib inline\n",
    "#plot first observation. Only one frame\n",
    "plt.imshow(s.swapaxes(1,2).reshape(-1,64).T)"
   ]
  },
  {
   "cell_type": "code",
   "execution_count": 4,
   "metadata": {},
   "outputs": [
    {
     "data": {
      "text/plain": [
       "<matplotlib.image.AxesImage at 0x7fd4baffa198>"
      ]
     },
     "execution_count": 4,
     "metadata": {},
     "output_type": "execute_result"
    },
    {
     "data": {
      "image/png": "[encoded data removed]",
      "text/plain": [
       "<matplotlib.figure.Figure at 0x7fd4bb083400>"
      ]
     },
     "metadata": {},
     "output_type": "display_data"
    }
   ],
   "source": [
    "#next frame\n",
    "new_s,r,done, _ = env.step(env.action_space.sample())\n",
    "plt.imshow(new_s.swapaxes(1,2).reshape(-1,64).T)"
   ]
  },
  {
   "cell_type": "code",
   "execution_count": 5,
   "metadata": {},
   "outputs": [
    {
     "data": {
      "text/plain": [
       "<matplotlib.image.AxesImage at 0x7fd4bafddb70>"
      ]
     },
     "execution_count": 5,
     "metadata": {},
     "output_type": "execute_result"
    },
    {
     "data": {
      "image/png": "[encoded data removed]",
      "text/plain": [
       "<matplotlib.figure.Figure at 0x7fd4bb04b400>"
      ]
     },
     "metadata": {},
     "output_type": "display_data"
    }
   ],
   "source": [
    "#after 10 frames\n",
    "for _ in range(10):\n",
    "    new_s,r,done, _ = env.step(env.action_space.sample())\n",
    "\n",
    "plt.imshow(new_s.swapaxes(1,2).reshape(-1,64).T)"
   ]
  },
  {
   "cell_type": "code",
   "execution_count": null,
   "metadata": {
    "collapsed": true
   },
   "outputs": [],
   "source": [
    "< tons of your code here or elsewhere >"
   ]
  }
 ],
 "metadata": {
  "kernelspec": {
   "display_name": "Python 2",
   "language": "python",
   "name": "python2"
  },
  "language_info": {
   "codemirror_mode": {
    "name": "ipython",
    "version": 3
   },
   "file_extension": ".py",
   "mimetype": "text/x-python",
   "name": "python",
   "nbconvert_exporter": "python",
   "pygments_lexer": "ipython3",
   "version": "3.5.2"
  }
 },
 "nbformat": 4,
 "nbformat_minor": 1
}
