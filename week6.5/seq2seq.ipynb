{
 "cells": [
  {
   "cell_type": "code",
   "execution_count": 1,
   "metadata": {
    "collapsed": true
   },
   "outputs": [],
   "source": [
    "import numpy as np\n",
    "import theano\n",
    "import theano.tensor as T\n",
    "import lasagne\n",
    "from lasagne.layers import *\n",
    "import os\n",
    "import pandas as pd"
   ]
  },
  {
   "cell_type": "markdown",
   "metadata": {},
   "source": [
    "\n",
    "# Problem & Dataset\n",
    "\n",
    "* Chemistry is not a mostly loved subject.\n",
    "* There are various chemical compounds. The problem here is to pronounce a common name knowing its formula.  \n",
    "* So, we try to learn transition: molecular_formula->common_name.\n",
    "* If you want, you can replace source and target variables to predict something else (sequential)"
   ]
  },
  {
   "cell_type": "code",
   "execution_count": 2,
   "metadata": {},
   "outputs": [
    {
     "name": "stdout",
     "output_type": "stream",
     "text": [
      "76049\n"
     ]
    },
    {
     "data": {
      "text/html": [
       "<div>\n",
       "<style>\n",
       "    .dataframe thead tr:only-child th {\n",
       "        text-align: right;\n",
       "    }\n",
       "\n",
       "    .dataframe thead th {\n",
       "        text-align: left;\n",
       "    }\n",
       "\n",
       "    .dataframe tbody tr th {\n",
       "        vertical-align: top;\n",
       "    }\n",
       "</style>\n",
       "<table border=\"1\" class=\"dataframe\">\n",
       "  <thead>\n",
       "    <tr style=\"text-align: right;\">\n",
       "      <th></th>\n",
       "      <th>common_name</th>\n",
       "      <th>molecular_formula</th>\n",
       "    </tr>\n",
       "  </thead>\n",
       "  <tbody>\n",
       "    <tr>\n",
       "      <th>0</th>\n",
       "      <td>Ethyl 3-ethoxy-2-nitroacrylate</td>\n",
       "      <td>C_{7}H_{11}NO_{5}</td>\n",
       "    </tr>\n",
       "    <tr>\n",
       "      <th>1</th>\n",
       "      <td>N-Butyl-3-(4-fluorophenyl)-1-phenyl-1H-pyrazol...</td>\n",
       "      <td>C_{20}H_{20}FN_{3}O</td>\n",
       "    </tr>\n",
       "    <tr>\n",
       "      <th>2</th>\n",
       "      <td>N-Butyl-N-sec-butyl-1-benzothiophene-3-carboxa...</td>\n",
       "      <td>C_{17}H_{23}NOS</td>\n",
       "    </tr>\n",
       "    <tr>\n",
       "      <th>3</th>\n",
       "      <td>2-{6-[(2S)-2-Butanyl]-2-(2-methyl-2-propanyl)-...</td>\n",
       "      <td>C_{21}H_{29}N_{5}O_{3}</td>\n",
       "    </tr>\n",
       "    <tr>\n",
       "      <th>4</th>\n",
       "      <td>4-Bromo-5-[(3-hydroxy-2,3-dimethyl-2-butanyl)a...</td>\n",
       "      <td>C_{13}H_{22}BrN_{3}O_{2}</td>\n",
       "    </tr>\n",
       "  </tbody>\n",
       "</table>\n",
       "</div>"
      ],
      "text/plain": [
       "                                         common_name         molecular_formula\n",
       "0                     Ethyl 3-ethoxy-2-nitroacrylate         C_{7}H_{11}NO_{5}\n",
       "1  N-Butyl-3-(4-fluorophenyl)-1-phenyl-1H-pyrazol...       C_{20}H_{20}FN_{3}O\n",
       "2  N-Butyl-N-sec-butyl-1-benzothiophene-3-carboxa...           C_{17}H_{23}NOS\n",
       "3  2-{6-[(2S)-2-Butanyl]-2-(2-methyl-2-propanyl)-...    C_{21}H_{29}N_{5}O_{3}\n",
       "4  4-Bromo-5-[(3-hydroxy-2,3-dimethyl-2-butanyl)a...  C_{13}H_{22}BrN_{3}O_{2}"
      ]
     },
     "execution_count": 2,
     "metadata": {},
     "output_type": "execute_result"
    }
   ],
   "source": [
    "molecules = pd.read_csv('molecules.tsv', sep='\\t', index_col=0)\n",
    "molecules = molecules[[\"common_name\", \"molecular_formula\"]]\n",
    "molecules = molecules.dropna()\n",
    "print(len(molecules))\n",
    "molecules.head(5)"
   ]
  },
  {
   "cell_type": "code",
   "execution_count": 3,
   "metadata": {
    "collapsed": true
   },
   "outputs": [],
   "source": [
    "def get_xy(x, y):\n",
    "    global molecules\n",
    "    return x.values, y.apply(lambda s: [\"START\"]+list(s)+[\"END\"])\n",
    "\n",
    "source_seqs, target_seqs = get_xy(molecules.molecular_formula, molecules.common_name)"
   ]
  },
  {
   "cell_type": "code",
   "execution_count": 4,
   "metadata": {},
   "outputs": [
    {
     "name": "stdout",
     "output_type": "stream",
     "text": [
      "C_{7}H_{11}NO_{5} : Ethyl 3-ethoxy-2-nitroacrylate\n",
      "C_{20}H_{20}FN_{3}O : N-Butyl-3-(4-fluorophenyl)-1-phenyl-1H-pyrazole-5-carboxamide\n",
      "C_{17}H_{23}NOS : N-Butyl-N-sec-butyl-1-benzothiophene-3-carboxamide\n",
      "C_{21}H_{29}N_{5}O_{3} : 2-{6-[(2S)-2-Butanyl]-2-(2-methyl-2-propanyl)-5,8-dioxo-5,6,7,8-tetrahydro-4H-pyrazolo[1,5-a]pyrrolo[3,4-d]pyrimidin-4-yl}-N-cyclopropylacetamide\n",
      "C_{13}H_{22}BrN_{3}O_{2} : 4-Bromo-5-[(3-hydroxy-2,3-dimethyl-2-butanyl)amino]-2-propyl-3(2H)-pyridazinone\n"
     ]
    }
   ],
   "source": [
    "for source, target in zip(source_seqs[:5],target_seqs[:5]):\n",
    "    print(source, ':', \"\".join(target[1:-1]))"
   ]
  },
  {
   "cell_type": "code",
   "execution_count": 5,
   "metadata": {},
   "outputs": [
    {
     "name": "stdout",
     "output_type": "stream",
     "text": [
      "<class 'numpy.ndarray'>\n"
     ]
    }
   ],
   "source": [
    "print(type(source_seqs))"
   ]
  },
  {
   "cell_type": "code",
   "execution_count": 6,
   "metadata": {
    "collapsed": true
   },
   "outputs": [],
   "source": [
    "target_letters = list(set([token for ts in target_seqs for token in ts]))\n",
    "target_letter_to_ix = {ph: i for i, ph in enumerate(target_letters)}"
   ]
  },
  {
   "cell_type": "code",
   "execution_count": 7,
   "metadata": {
    "collapsed": true
   },
   "outputs": [],
   "source": [
    "source_letters = list(set([token for word in source_seqs for token in word]))\n",
    "source_letter_to_ix = {l: i for i, l in enumerate(source_letters)}"
   ]
  },
  {
   "cell_type": "code",
   "execution_count": 8,
   "metadata": {},
   "outputs": [
    {
     "name": "stdout",
     "output_type": "stream",
     "text": [
      "150\n"
     ]
    },
    {
     "data": {
      "image/png": "[encoded data removed]",
      "text/plain": [
       "<matplotlib.figure.Figure at 0x7fdec93ffc88>"
      ]
     },
     "metadata": {},
     "output_type": "display_data"
    }
   ],
   "source": [
    "import matplotlib.pyplot as plt\n",
    "%matplotlib inline\n",
    "plt.hist(list(map(len, target_seqs)), bins=25);\n",
    "\n",
    "# Truncate names longer than MAX_LEN characters. This can be changed\n",
    "MAX_LEN = min([150, max(list(map(len, target_seqs)))])\n",
    "print(MAX_LEN)"
   ]
  },
  {
   "cell_type": "markdown",
   "metadata": {},
   "source": [
    "### Cast everything from symbols into matrix of int32. Pad with -1"
   ]
  },
  {
   "cell_type": "code",
   "execution_count": 9,
   "metadata": {
    "collapsed": true
   },
   "outputs": [],
   "source": [
    "def as_matrix(sequences, token_to_i, max_len=None, PAX_ix=-1):\n",
    "    \"\"\"\n",
    "    Converts several sequences of tokens to a matrix, edible a neural network.\n",
    "    Crops at max_len(if given), pads shorter sequences with -1 or PAD_ix.\n",
    "    \"\"\"\n",
    "    max_len = max_len or max(map(len, sequences))\n",
    "    \n",
    "    matrix = np.zeros((len(sequences), max_len), dtype='int32') -1\n",
    "    for i, seq in enumerate(sequences):\n",
    "        \n",
    "        row_ix = [token_to_i.get(_, 0) for _ in seq[:max_len]]\n",
    "        matrix[i, :len(row_ix)] = row_ix\n",
    "    \n",
    "    return matrix\n"
   ]
  },
  {
   "cell_type": "code",
   "execution_count": 10,
   "metadata": {},
   "outputs": [
    {
     "name": "stdout",
     "output_type": "stream",
     "text": [
      "[[38 27  7 32 18 22 27  7  3  3 18 46 19 27  7 17 18 -1 -1]\n",
      " [38 27  7 16 24 18 22 27  7 16 24 18 40 46 27  7  5 18 19]\n",
      " [38 27  7  3 32 18 22 27  7 16  5 18 46 19 39 -1 -1 -1 -1]]\n"
     ]
    }
   ],
   "source": [
    "print(as_matrix(source_seqs[:3], source_letter_to_ix))"
   ]
  },
  {
   "cell_type": "markdown",
   "metadata": {},
   "source": [
    "# Input variables"
   ]
  },
  {
   "cell_type": "code",
   "execution_count": 11,
   "metadata": {
    "collapsed": true
   },
   "outputs": [],
   "source": [
    "input_sequence = T.matrix('token sequence', 'int32')\n",
    "target_sequence = T.matrix('target sequence', 'int32')"
   ]
  },
  {
   "cell_type": "markdown",
   "metadata": {},
   "source": [
    "# Build NN\n",
    "\n",
    "You will be building a model that takes token sequence and predicts next token\n",
    "\n",
    "\n",
    "* Input sequence\n",
    "* One-hot / embedding\n",
    "* Encoder recurrent layer(s)\n",
    "* Decoder recurrent layer(s)\n",
    "* Softmax layer to predict probabilities"
   ]
  },
  {
   "cell_type": "code",
   "execution_count": 12,
   "metadata": {
    "collapsed": true
   },
   "outputs": [],
   "source": [
    "EMBEDDING_SIZE = 32\n",
    "HIDDEN_SIZE = 256\n",
    "\n",
    "##ENCODER\n",
    "l_in = InputLayer(shape=(None, None), input_var=input_sequence)\n",
    "l_mask = InputLayer(shape=(None, None), input_var=T.neq(input_sequence, -1)) \n",
    "\n",
    "l_emb = EmbeddingLayer(l_in, len(source_letters), EMBEDDING_SIZE)\n",
    "l_rnn = LSTMLayer(l_emb, \n",
    "                  HIDDEN_SIZE, \n",
    "                  only_return_final=True, \n",
    "                  mask_input=l_mask, \n",
    "                  grad_clipping=0)"
   ]
  },
  {
   "cell_type": "code",
   "execution_count": 13,
   "metadata": {
    "collapsed": true
   },
   "outputs": [],
   "source": [
    "##DECODER\n",
    "dec_in = InputLayer(shape=(None, None), input_var=target_sequence)\n",
    "dec_mask = InputLayer(shape=(None, None), input_var=T.neq(target_sequence, -1))\n",
    "\n",
    "dec_emb = EmbeddingLayer(dec_in, len(target_letters), EMBEDDING_SIZE)\n",
    "dec_rnn = LSTMLayer(dec_emb, \n",
    "                    HIDDEN_SIZE,\n",
    "                    cell_init=l_rnn,\n",
    "                    mask_input=dec_mask, \n",
    "                    grad_clipping=0)\n",
    "# WARNING! if it's lstm use cell_init, not hid_init\n",
    "\n",
    "\n",
    "#flatten batch and time to be compatible with feedforward layers (will un-flatten later)\n",
    "dec_rnn_flat = reshape(dec_rnn, (-1, dec_rnn.output_shape[-1]))\n",
    "\n",
    "decoder_flat = DenseLayer(dec_rnn_flat,\n",
    "                          num_units=len(target_letters),\n",
    "                          nonlinearity=lasagne.nonlinearities.softmax)"
   ]
  },
  {
   "cell_type": "code",
   "execution_count": 14,
   "metadata": {
    "collapsed": true
   },
   "outputs": [],
   "source": [
    "# Model weights\n",
    "weights = get_all_params(decoder_flat, trainable=True)\n",
    "#print weights"
   ]
  },
  {
   "cell_type": "code",
   "execution_count": 15,
   "metadata": {
    "collapsed": true
   },
   "outputs": [],
   "source": [
    "decoder = reshape(decoder_flat,\n",
    "                  [target_sequence.shape[0], target_sequence.shape[1], -1])\n",
    "#If you use dropout do not forget to create deterministic version for evaluation\n",
    "decoder_output = get_output(decoder)"
   ]
  },
  {
   "cell_type": "code",
   "execution_count": 16,
   "metadata": {
    "collapsed": true
   },
   "outputs": [],
   "source": [
    "predictions_flat = decoder_output[:, :-1, :].reshape([-1, len(target_letters)])\n",
    "targets = target_sequence[:, 1:].ravel()\n",
    "targets_one_hot = lasagne.utils.one_hot(targets, len(target_letters))\n",
    "\n",
    "#do not count loss for '-1' tokens\n",
    "mask = T.neq(targets, -1).ravel()\n",
    "\n",
    "loss = T.dot(mask, T.nnet.categorical_crossentropy(predictions_flat, targets_one_hot))/T.sum(mask)\n",
    "\n",
    "updates = lasagne.updates.adam(loss, weights)"
   ]
  },
  {
   "cell_type": "markdown",
   "metadata": {},
   "source": [
    "# Compiling it"
   ]
  },
  {
   "cell_type": "code",
   "execution_count": 17,
   "metadata": {
    "collapsed": true
   },
   "outputs": [],
   "source": [
    "#training\n",
    "train = theano.function([input_sequence, target_sequence], \n",
    "                        loss, \n",
    "                        updates=updates, \n",
    "                        allow_input_downcast=True)\n",
    "\n",
    "#computing loss without training\n",
    "compute_cost = theano.function([input_sequence, target_sequence],\n",
    "                               loss, \n",
    "                               allow_input_downcast=True)"
   ]
  },
  {
   "cell_type": "markdown",
   "metadata": {},
   "source": [
    "# Generation\n",
    "\n",
    "We now need to implement a function that generates output sequence given input.\n",
    "\n",
    "Such function must work thusly:\n",
    "```\n",
    "Init:\n",
    "x = input\n",
    "y = [\"START\"]\n",
    "\n",
    "While not_too_long:\n",
    "  p(y_next|x,y) = probabilities of next letter for y\n",
    "  \n",
    "  y_next ~ p(y_next|x,y)\n",
    "  \n",
    "  y.append(y_next)\n",
    "  \n",
    "  if y_next == \"END\":\n",
    "      break\n",
    "```"
   ]
  },
  {
   "cell_type": "code",
   "execution_count": 18,
   "metadata": {
    "collapsed": true
   },
   "outputs": [],
   "source": [
    "#compile the function that computes probabilities for next token given previous text.\n",
    "# <network output reshaped to [batch,tick,token] format>\n",
    "\n",
    "# <a matrix [batch_i, decoder_n_tokens] of network output for last time step>\n",
    "last_word_probas = decoder_output[:, -1, :]\n",
    "\n",
    "# <a function that predicts probabilities coming after the last token>\n",
    "probs = theano.function([input_sequence, target_sequence], \n",
    "                        last_word_probas,\n",
    "                        allow_input_downcast=True)"
   ]
  },
  {
   "cell_type": "code",
   "execution_count": 19,
   "metadata": {
    "collapsed": true
   },
   "outputs": [],
   "source": [
    "def generate_output(seq_in,\n",
    "                    output_prefix = (\"START\",),\n",
    "                    END_token=\"END\",\n",
    "                    temperature=1,\n",
    "                    sample=True):\n",
    "    \n",
    "    \"\"\"\n",
    "    Implement a function that generates output sequence given input.\n",
    "    \n",
    "    We recommend (but not require) you to use the pseudo-code above and inline instructions.\n",
    "    \"\"\"\n",
    "    \n",
    "    output = list(output_prefix)\n",
    "    \n",
    "    while True:\n",
    "        next_y_probs = probs(as_matrix([seq_in], source_letter_to_ix), \n",
    "                             as_matrix([output], target_letter_to_ix))\n",
    "        next_y_probs = next_y_probs**(1/temperature)\n",
    "        next_y_probs = next_y_probs/np.sum(next_y_probs)\n",
    "\n",
    "        if sample:\n",
    "            next_y = np.random.choice(target_letters, p=next_y_probs[0])\n",
    "        else:\n",
    "            next_y = target_letters[np.argmax(next_y_probs[0])]\n",
    "        \n",
    "        next_y = str(next_y)\n",
    "        assert type(next_y) is str, \"please return token(string/character), not it's index\"\n",
    "        \n",
    "        output.append(next_y)\n",
    "\n",
    "        if next_y == END_token:\n",
    "            break\n",
    "            \n",
    "    return output\n",
    "\n"
   ]
  },
  {
   "cell_type": "markdown",
   "metadata": {},
   "source": [
    "# Model training"
   ]
  },
  {
   "cell_type": "code",
   "execution_count": 20,
   "metadata": {
    "collapsed": true
   },
   "outputs": [],
   "source": [
    "source_seqs = np.array(source_seqs)\n",
    "target_seqs = np.array(target_seqs)"
   ]
  },
  {
   "cell_type": "code",
   "execution_count": 21,
   "metadata": {
    "collapsed": true
   },
   "outputs": [],
   "source": [
    "def sample_batch(source_seqs, target_seqs, batch_size):\n",
    "    \"\"\"samples a random batch of source and target sequences, batch_size elements\"\"\"\n",
    "    batch_ix = np.random.randint(0, len(source_seqs), size=batch_size)\n",
    "    source_seqs_batch=as_matrix(source_seqs[batch_ix], source_letter_to_ix) \n",
    "    target_seqs_batch=as_matrix(target_seqs[batch_ix], target_letter_to_ix)\n",
    "    \n",
    "    return source_seqs_batch, target_seqs_batch"
   ]
  },
  {
   "cell_type": "code",
   "execution_count": 22,
   "metadata": {},
   "outputs": [
    {
     "data": {
      "application/vnd.jupyter.widget-view+json": {
       "model_id": "70d6c40c34884d48aa7a25a81bbac475"
      }
     },
     "metadata": {},
     "output_type": "display_data"
    },
    {
     "data": {
      "application/vnd.jupyter.widget-view+json": {
       "model_id": "fed2fc9f698a4f34b66d515728f593f0"
      }
     },
     "metadata": {},
     "output_type": "display_data"
    },
    {
     "name": "stdout",
     "output_type": "stream",
     "text": [
      "Epoch 0 average loss = 1.9775778064342857\n",
      "C_{12}H_{17}BF_{3}KO_{3} :\n",
      "2-Amino-3-famtazol-[4~5-dromethylethyl)henbonyl]-2-oxo-4,4-dinymethylasmothenexe-ane\n",
      "C_{7}H_{11}NO_{5} :\n",
      "N-(2-Methyl-2-pyridinyl)-N-(2-methyl-1H-pyrazol-4-yl)-1-phenyl-1H-pyrazol-4-yl]-1-propanyl)-1-propanoline\n",
      "C_{11}H_{12}BrF_{3}N_{2}O_{2} :\n",
      "7-(2,5-Dihydroxo-4-3-peren-i-yl)-4-thlorpylethyl)ethyl]-3-(9-tetro-2,68-ciparo[5,3-dimidin-6-enyl}ettanamide\n",
      "C_{7}H_{11}NO_{5} :\n",
      "N-[(2-Bromo-2-methyl-2-pyridinyl)-1-propyl-1H-pyrazol-4-yl)-1-propanyl)-1-propanyl)-1-propanyl)-1-propanoline\n",
      "C_{17}H_{14}N_{4}O_{2} :\n",
      "2-{[3-(acetyl-5-furazolo-4-thipypropyl-1(methylphenyl)amino1-3-dinechanene\n",
      "C_{7}H_{11}NO_{5} :\n",
      "N-(2-Chloro-2-methyl-1-propyl-1-propanyl)-2-pyridinyl)-1-propanyl)-1-piperidinyl]-1,3-dihydro-2-pyridinyl]-1-propanyl]-1,3-dihydro-1H-pyrazol-4-yl]-1-pyridinyl]-1-propanoline\n",
      "C_{14}H_{17}ClN_{2}O :\n",
      "N-(2-Amino-2-phroro-1-foropychonydlo- H-idino-6-pyrrolidinochenydo-1H-isoprobin-2-yl)-5H-dutanocrofuletharbesuclozeinodidehecalboxa yce\n",
      "C_{7}H_{11}NO_{5} :\n",
      "2-(2-Methyl-2-propyl-1-propyl-2-pyridinyl)-1-propanyl)-1-propanyl)-1-propanyl)-1-propanyl)-1-propanyl]-1-propanamine\n",
      "C_{16}H_{13}F_{2}NO_{3}S :\n",
      "2-[1-{(4-Chlazo-1-(1,1gdiazil-[(4,6-dimethyl-3-proparamin-aycarboxacid\n",
      "C_{7}H_{11}NO_{5} :\n",
      "N-(2-Methyl-2-pyridinyl)-N-(2-methyl-1,2-dihydro-2-phenyl-1H-pyrazol-4-yl)-1-propanyl)-1-pyridinyl]-1-propanoline\n"
     ]
    },
    {
     "data": {
      "application/vnd.jupyter.widget-view+json": {
       "model_id": "ae8b9902193d4d289f90c6c4264810ad"
      }
     },
     "metadata": {},
     "output_type": "display_data"
    },
    {
     "name": "stdout",
     "output_type": "stream",
     "text": [
      "Epoch 1 average loss = 0.9486071134700148\n",
      "C_{13}H_{14}BrN_{3} :\n",
      "2-Chloro-4-oxo-3-(trifluorimethyl)-2,3-diazegolo-2,3,4]oxadiazol-5-yl)etryl]-2-phenyl-1H-pyrazol-3-yl]propane\n",
      "C_{7}H_{11}NO_{5} :\n",
      "N-(3-Chloro-2-fluorophenyl)-1-piperazinyl)-2-pyridinecarboxylate\n",
      "C_{11}H_{16}ClF_{3}N_{2}OS :\n",
      "5-[4-Ethyl-1H-benzazido-5-cyacatethoxy)carbonyl)-4-piperidinenarimide\n",
      "C_{7}H_{11}NO_{5} :\n",
      "N-(3-Methyl-1-piperazinyl)-1-piperazinyl]methyl]-1,3-dihydro-2H-pyrazol-2-yl]-1-piperazinecarboxylate\n",
      "C_{17}H_{14}BrNO_{4}S :\n",
      "N-[(6-Methylbenzyl)-1-dihydro-5,3-dioxoethyl}-4-methylrophenolecahydrohenamode\n",
      "C_{7}H_{11}NO_{5} :\n",
      "N-[(4-Methyl-1H-pyrazol-2-yl)-1-piperazinyl)-1-piperazinyl]methyl]-1H-pyrazol-2-yl]-1-piperazinecarboxylate\n",
      "C_{20}H_{24}N_{2}O_{3}S :\n",
      "(3,6-Diazetyl-5-quinolinyl-4,4-dioxidabene)-NH-2,5,5-triazolazine\n",
      "C_{7}H_{11}NO_{5} :\n",
      "N-(2-Chloro-2-fluorophenyl)-1H-indol-2-yl)-1-piperazinecarboxylate\n",
      "C_{25}H_{24}N_{4}O_{4}S :\n",
      "1-Ethyl-4-fluoro-N-(4H-yd]furanyl)methyl)-1,4,3-triazol-4-yl)-5H-indole-2-carboxyamide\n",
      "C_{7}H_{11}NO_{5} :\n",
      "N-(2-Methyl-2-pyridinyl)-1-piperazinyl)-2-pyridinecarboxylate\n"
     ]
    },
    {
     "data": {
      "application/vnd.jupyter.widget-view+json": {
       "model_id": "d33332cacd7d49ec8c5b693fc366ceb0"
      }
     },
     "metadata": {},
     "output_type": "display_data"
    },
    {
     "name": "stdout",
     "output_type": "stream",
     "text": [
      "Epoch 2 average loss = 0.8035580543598264\n",
      "C_{22}H_{28}N_{3}O_{3} :\n",
      "3-{2-[2,5-Dihydrobenzamine\n",
      "C_{7}H_{11}NO_{5} :\n",
      "N-(2-Chloro-2-fluorophenyl)-2-(2-methoxyphenyl)-1-piperazinyl]-2-(2-methyl-2-propanyl)-1-piperazinyl}-2-pyridinecarboxamide\n",
      "C_{16}H_{16}O_{4} :\n",
      "(2S)-3-(3-Bromophenyl)-3-(4-methyl-2,3-benzyazin-5-yl)-2-methylpyrazol-2-yl]piperidine\n",
      "C_{7}H_{11}NO_{5} :\n",
      "N-(2-Chloro-2-fluorophenyl)-N-(2-methyl-1-piperidinyl)-1-piperazinyl]-1-propanol\n",
      "C_{15}H_{31}N :\n",
      "1-(2-{[(2-Cyano-3-nadanopropinoyl]amino]piprolin-acecarboxy}atetticorecahedathide\n",
      "C_{7}H_{11}NO_{5} :\n",
      "N-(2-Chloro-2-fluorophenyl)-1-(2-methyl-1-piperidinyl)-1-piperazinyl]-2-propanamine\n",
      "C_{19}H_{22}N_{2}O_{4}S :\n",
      "6-[(2,5,4,4,9,7-8-thiametan-2-yl)oxy)(1,2,3,5-tetaabutenamin(6-butane\n",
      "C_{7}H_{11}NO_{5} :\n",
      "N-(2-Chloro-2-fluorophenyl)-N-(2-methyl-2-propanyl)-1-piperazinyl]-N-(2-methyl-1-piperidinyl)-1-piperazinyl}-2-propanamine\n",
      "C_{19}H_{26}N_{4}O_{3}S :\n",
      "2-(1-Benzyl-5-o[3-(1,2,5-triazin-2-yl)-4-pyrazinyl]-4-(2-methylbenzyl)-1,3-benzazidan-2-inone\n",
      "C_{7}H_{11}NO_{5} :\n",
      "N-(2-Chloro-2-fluorophenyl)-1-(2-methyl-1-piperidinyl)-1-propanamine\n"
     ]
    },
    {
     "data": {
      "application/vnd.jupyter.widget-view+json": {
       "model_id": "ac23cfca30204688b06bdc43b7bd1a80"
      }
     },
     "metadata": {},
     "output_type": "display_data"
    },
    {
     "name": "stdout",
     "output_type": "stream",
     "text": [
      "Epoch 3 average loss = 0.7263494652677258\n",
      "C_{21}H_{16}BrClN_{2}O :\n",
      "1-Amino[5-(4-methyl-2-propanyl)phenyl]-1-azacacate\n",
      "C_{7}H_{11}NO_{5} :\n",
      "N-(3-Methoxyphenyl)-N-(2-methyl-2-propanyl)-1-piperazinyl]-N-(2-methoxyphenyl)-1-piperazinecarboxamide\n",
      "C_{12}H_{17}BrFNO :\n",
      "6-{[(4-Fluoroethyl)-N~5~-methyl-1-propanamine\n",
      "C_{7}H_{11}NO_{5} :\n",
      "N-(2-Methoxyphenyl)-2-(3-methyl-2-propanyl)-1-piperazinyl]-2-(2-methoxyphenyl)-1-piperazinecarboxamide\n",
      "C_{13}H_{10}O_{2}S :\n",
      "3-[(4R,3S)-2-Cyclobenzylcyclopentanecarboxylate\n",
      "C_{7}H_{11}NO_{5} :\n",
      "N-(2-Methoxy-2-propanyl)-1-(2-methyl-2-propanyl)-1-piperazinyl]-N-(2-methyl-2-propanyl)-1H-pyrazole-3-carboxamide\n",
      "C_{20}H_{21}N_{3}O_{4}S :\n",
      "5-({1-[3-(Benzyloxy)phenyl]carbamethifyrramide\n",
      "C_{7}H_{11}NO_{5} :\n",
      "N-(2-Methoxy-2-propanyl)-N-[(2-methyl-2-propanyl)sulfanyl]-1-piperazinyl}ethanone\n",
      "C_{20}H_{27}ClN_{2}O_{4} :\n",
      "1-[(2R)-3-{[3-(3-Fluorophenyl)propyl]-2H-1,2,4]thiadiazol-2-yl]cecaamate\n",
      "C_{7}H_{11}NO_{5} :\n",
      "N-(2-Methoxy-2-propanyl)-1-(2-methyl-2-propanyl)-1-piperazinyl]-2-propanamine\n"
     ]
    },
    {
     "data": {
      "application/vnd.jupyter.widget-view+json": {
       "model_id": "00babc1c679c471292640c516eea929a"
      }
     },
     "metadata": {},
     "output_type": "display_data"
    },
    {
     "name": "stdout",
     "output_type": "stream",
     "text": [
      "Epoch 4 average loss = 0.6869662529548022\n",
      "C_{29}H_{30}F_{3}N_{3}O_{2} :\n",
      "3-Methoxa-propyl-4-(2-pyrrolidinone\n",
      "C_{7}H_{11}NO_{5} :\n",
      "N-(2-Chloro-2-methylphenyl)-1-(2-methyl-1H-pyrazol-5-yl)-1-propanamine\n",
      "C_{10}H_{8}BrClN_{2}O :\n",
      "N-Methyl-4-phenyl-1-(2-methoxyethyl)-N-(2-propoxy-propylamino)-2,4-dihydro-3-pertazi[n,3-4]pyrimidine-2(5(dine\n",
      "C_{7}H_{11}NO_{5} :\n",
      "N-(2-Chloro-2-methylphenyl)-1-(2-methyl-1H-pyrazol-5-yl)-1-piperazinecarboxamide\n",
      "C_{18}H_{26}N_{2}O_{4} :\n",
      "N-[4-(3,6-Dibromophenyl)-2-oxo-1,2,5-trimethylphenyl]acrylamide hydrochloride (1:3)\n",
      "C_{7}H_{11}NO_{5} :\n",
      "N-(2-Chloro-2-methylphenyl)-1-(2-methyl-1H-pyrazol-4-yl)-1-piperazinecarboxamide\n",
      "C_{16}H_{14}ClF_{2}NO_{2}S :\n",
      "N-[1-(Dimethylamino)ethyl]-N-methylethanamine\n",
      "C_{7}H_{11}NO_{5} :\n",
      "N-(2-Chloro-2-methylphenyl)-2-(3-methylphenyl)-1-piperazinecarboxamide\n",
      "C_{19}H_{18}N_{4}O_{6} :\n",
      "N~1~-(sulflamino)yl-9-(2-methoxypropyl)amino]-4-phenylalaninamide\n",
      "C_{7}H_{11}NO_{5} :\n",
      "N-(2-Chloro-2-methylphenyl)-1-(2-methyl-1H-pyrazol-4-yl)-1,3-dihydro-1H-pyrrol-3-one\n"
     ]
    },
    {
     "data": {
      "application/vnd.jupyter.widget-view+json": {
       "model_id": "77954a9a92e44192b081d6da57fc08bf"
      }
     },
     "metadata": {},
     "output_type": "display_data"
    },
    {
     "name": "stdout",
     "output_type": "stream",
     "text": [
      "Epoch 5 average loss = 0.6646982450448063\n",
      "C_{19}H_{21}FN_{2}O_{4}S :\n",
      "N-[(E)-(3-Chloro-1,N-dioxo-7-(methylsulfanyl)oxy]-3-(4-thiophenyl)-5-methoxy-3-oxo-2,4,5-dimethyl-1,3,4,5-tetrahydro-5H-quinoxilonic acid\n",
      "C_{7}H_{11}NO_{5} :\n",
      "N-[(2-Chloro-4-methylphenyl)sulfonyl]-1-piperazinyl}-2-(2-methyl-2-propanyl)-1,3-dihydro-2H-pyrrolo[3,4-d]pyrimidine-6-carboxylate\n",
      "C_{19}H_{30}N_{2}O_{5} :\n",
      "N~1~-N-Allyloxy]-2-(2-hydroxyphenyl)ethanone\n",
      "C_{7}H_{11}NO_{5} :\n",
      "N-[(2-Chloro-4-methylphenyl)sulfonyl]-1-piperazinyl}-N-(2-methyl-2-propanyl)-1,3-thiazol-2-yl]-1-propanamine\n",
      "C_{19}H_{18}BrNO_{2} :\n",
      "1-[1-(1H-Imidazol-5-yl)-1-phenyl-2-propanyl]-(4-pyridinyl)sulfanyl]-1,4-dioxoacetamide\n",
      "C_{7}H_{11}NO_{5} :\n",
      "N-[(2-Chloro-4-methylphenyl)amino]-2-oxoethyl}-1-propanamine\n",
      "C_{13}H_{11}Cl_{2}N_{3}O_{2} :\n",
      "(4Z)-3O,2'',6'-Do7-(3-Fluorophenyl)-N'-(propyl-2-methoxyphenyl]-1Ha-inolo-2,4-dioxo[3,3-thiazol-2-yl]sulfanyl}acrylate\n",
      "C_{7}H_{11}NO_{5} :\n",
      "N-[(2-Chloro-4-methylphenyl)amino]-2-oxoethyl (2S)-2-(4-methylphenyl)-1,3,4-oxadiazol-2-yl]-2-propanamine\n",
      "C_{23}H_{23}N_{3}O_{4} :\n",
      "2,6-Dichloro-5-(4-morpholinylsulfonyl]-4-oxo-4,4,8,8-tetrahydro-4H-1,4,3-triazol-4-yl]acetamide\n",
      "C_{7}H_{11}NO_{5} :\n",
      "N-[(2-Chloro-2-methylphenyl)amino]-2-oxoethyl}-1-piperazinecarboxylate\n"
     ]
    },
    {
     "data": {
      "application/vnd.jupyter.widget-view+json": {
       "model_id": "03cc0dfb782b4cfa8ea79cfbce476a9c"
      }
     },
     "metadata": {},
     "output_type": "display_data"
    },
    {
     "name": "stdout",
     "output_type": "stream",
     "text": [
      "Epoch 6 average loss = 0.6437836554126173\n",
      "C_{15}H_{18}Br_{2}N_{4}O_{2} :\n",
      "5-(4-Fluorophenyl)-N-{2-[(4R)-Acatyl-5al,7a,5aR,9bS,16R,10S)-6,9R)-6-(3,46-1,7,9diacetahyrro-3-furanoyl]-1,2,4,5-tetrahydro-1,3-benzothiazin-2(1H)-one\n",
      "C_{7}H_{11}NO_{5} :\n",
      "N-(3-Amino-2-propanyl)-N-[(2-methyl-2-propanyl)oxy]carbonyl}-2-propanamine\n",
      "C_{10}H_{19}F_{2}NO :\n",
      "2,N-Diethyl-4-(3-methoxpeneyl)benzoite\n",
      "C_{7}H_{11}NO_{5} :\n",
      "N-(3-Chloro-2-methylphenyl)-2-(3-methoxyphenyl)-2-propanamine\n",
      "C_{26}H_{20}ClN_{5}O_{3}S :\n",
      "Benzyl [1,2,3]triazino[1,2-a]isditen-5-ylmethyl)-5,6,8,7-tetramethylbenzenesulfonamide\n",
      "C_{7}H_{11}NO_{5} :\n",
      "N-(3-Chloro-2-methylphenyl)-N-[(2-methyl-2-propanyl)oxy]carbonyl}-2-propanamine\n",
      "C_{13}H_{28}N_{2}O :\n",
      "2-[4-(Bromomethyl)-1-pyrazolidinyl]-N-methylbenzamide\n",
      "C_{7}H_{11}NO_{5} :\n",
      "N-(3-Chloro-2-methylphenyl)-N-[(2-methyl-2-propanyl)oxy]carbonyl}-N-methyl-1-propanamine\n",
      "C_{13}H_{22}N_{2}O_{2} :\n",
      "1-[(Isobutyl-2-propanyl)-hydrasonyl)methyl]-3-propanone\n",
      "C_{7}H_{11}NO_{5} :\n",
      "N-(2-Chloro-2-methylphenyl)-2-[(2-methyl-2-propanyl)oxy]carbonyl}-3-piperidinecarboxylic acid\n"
     ]
    },
    {
     "data": {
      "application/vnd.jupyter.widget-view+json": {
       "model_id": "4c7c19fab1be4b18afa29b13caec3f91"
      }
     },
     "metadata": {},
     "output_type": "display_data"
    },
    {
     "name": "stdout",
     "output_type": "stream",
     "text": [
      "Epoch 7 average loss = 0.622332914690206\n",
      "C_{15}H_{12}ClNO_{3} :\n",
      "3-[(3,5-Dimethoxyphenyl](3-oxo-2,4-oxazole-4-carboxylalino]ethyl 3'-hydroxy-6-methylquinoline\n",
      "C_{7}H_{11}NO_{5} :\n",
      "2-(2-Methyl-2-pyridinyl)-1-(2-methyl-2-propanyl)-1,3-thiazol-2-yl]-2-propanamine\n",
      "C_{17}H_{21}N_{3}O_{6} :\n",
      "3-Nitro-2-({4-[(3-hydroxyphenyl)amino]benzoic aclace\n",
      "C_{7}H_{11}NO_{5} :\n",
      "N-(2-Methyl-2-pyridinyl)-N-(2-methyl-2-propanyl)-1,3-thiazole-4-carboxamide\n",
      "C_{14}H_{10}Br_{2}ClFO :\n",
      "1-(E,3-Dimethyl-1-piperidinyl)-3-(2-thienyl)ethanone\n",
      "C_{7}H_{11}NO_{5} :\n",
      "1-(2-Methyl-2-pyridinyl)-1-(2-methyl-2-propanyl)-1,3-thiazol-2-yl]-1-propanamine\n",
      "C_{27}H_{30}F_{3}N_{5}O :\n",
      "N-Methyl-N-[2-(2-methyl-3-piperidinyl)ethyl]-6-pyrimidinecarboxylate\n",
      "C_{7}H_{11}NO_{5} :\n",
      "N-(2-Methyl-2-pyridinyl)-N-(2-methyl-2-propanyl)-1,3-thiazole-4-carboxamide\n",
      "C_{13}H_{24}N_{2}O_{3}S :\n",
      "Ethyl {[(4E)-5-(3-chloro-3-fluorophenyl)phenyl]ethanamine\n",
      "C_{7}H_{11}NO_{5} :\n",
      "N-(2-Methyl-2-pyridinyl)-N-(2-methyl-2-propanyl)-1,3-thiazol-2-yl]-2-propanamine\n"
     ]
    },
    {
     "data": {
      "application/vnd.jupyter.widget-view+json": {
       "model_id": "d75234fc566d43c29c66e3b0dce42a19"
      }
     },
     "metadata": {},
     "output_type": "display_data"
    },
    {
     "name": "stdout",
     "output_type": "stream",
     "text": [
      "Epoch 8 average loss = 0.6123036645968366\n",
      "C_{16}H_{17}ClN_{2}O :\n",
      "(4E)-2-Ethyl-N~6~-(2-methoxyphenyl)-N-methyl-1-benzeneburane\n",
      "C_{7}H_{11}NO_{5} :\n",
      "N-(2-Chloro-2-methylphenyl)-N-(2-methyl-2-propanyl)-1,3-thiazole-4-carboxamide\n",
      "C_{17}H_{27}ClN_{2}O_{3} :\n",
      "3-(4-Fluorophenyl)-N-[4-(propylsulfanyl)phenyl]-1,3-thiazol-3-yl]methanethioamide\n",
      "C_{7}H_{11}NO_{5} :\n",
      "N-(2-Chloro-2-methylphenyl)-N-(2-methyl-2-propanyl)-1,3-thiazole-4-carboxamide\n",
      "C_{12}H_{15}Cl_{2}NO :\n",
      "Methyl N-{[4-(1H-pyrazol-1-ylmethyl)-1,2,4-oxadiazol-3-yl]methoxy}-4-ethoxybutylricecaniamide\n",
      "C_{7}H_{11}NO_{5} :\n",
      "N-(2-Chloro-2-methylphenyl)-N-[(2-methyl-2-propanyl)amino]-1-propanamine\n",
      "C_{22}H_{20}F_{3}NO_{2}S :\n",
      "N~2~-(4-Chloro-4-methoxyphenyl)-1-{4-[(2-methylpentyl)thieno[1,2-d]pyrimidin-3-yl]carbonyl}glycinamide\n",
      "C_{7}H_{11}NO_{5} :\n",
      "N-(2-Chloro-2-methylphenyl)-N-[(2-methyl-1H-pyrazol-4-yl)methyl]-1-propanamine\n",
      "C_{15}H_{14}N_{2}O_{4} :\n",
      "2-{cyclopropyl(4-methyl-2-oxo-3,3-dihydro-1H-sulfinyl]methyl}methanone\n",
      "C_{7}H_{11}NO_{5} :\n",
      "N-(2-Chloro-2-methylphenyl)-N-(2-methyl-2-propanyl)-1,3-thiazole-4-carboxamide\n"
     ]
    },
    {
     "data": {
      "application/vnd.jupyter.widget-view+json": {
       "model_id": "91f03b246979463c886ca7a30fae4b46"
      }
     },
     "metadata": {},
     "output_type": "display_data"
    },
    {
     "name": "stdout",
     "output_type": "stream",
     "text": [
      "Epoch 9 average loss = 0.6007784585630686\n",
      "C_{21}H_{23}N_{3}O_{3} :\n",
      "3-Methyl-N-(4-methylbutyl)-4-phenyl-4,4-dihydroimidazo[2,1-a]pyrazine\n",
      "C_{7}H_{11}NO_{5} :\n",
      "2-(2-Chlorophenyl)-2-[(2-methyl-2-propanyl)amino]-2-oxoethyl (2-methyl-2-propanyl)amino]benzoate\n",
      "C_{9}H_{14}N_{4}O_{3}S :\n",
      "N-(1-{[2-(3,4-Dimethyl-1-benzofuran-1-yl)ethyl]carbamoyl}-3-pyrrolidinecarboxylic acid\n",
      "C_{7}H_{11}NO_{5} :\n",
      "2-[(2-Chloro-4-methylphenyl)amino]-2-oxoethyl 2-methyl-2-propanyl)-N-methyl-1,3-thiazole-5-carboxylate\n",
      "C_{14}H_{20}ClF_{2}NO_{2}S :\n",
      "Ethyl 2-ethyl-4-(4-fluorobenzyl)benzoyl]oxy}propanoic acid\n",
      "C_{7}H_{11}NO_{5} :\n",
      "N-(2-Chloro-4-methylphenyl)-N-[(2-methyl-2-propanyl)amino]-2-oxoethyl (2-methyl-2-propanyl)amino]benzoate\n",
      "C_{8}H_{8}N_{2}O_{2} :\n",
      "N-[2-(Bromomethyl)-2-oxoethyl]-N-(2-propoxybenzyl)cyclopropyl}-1,4-dimethyl-1H,4H)-quinoline-3,2(7H)-dione\n",
      "C_{7}H_{11}NO_{5} :\n",
      "N-(2-Chloro-2-methylphenyl)-N-(2-methyl-2-propanyl)-1,3-dihydro-2H-pyrrol-2-one\n",
      "C_{21}H_{21}BrN_{2}O_{3}S :\n",
      "5-[(5-Bromo-2-furyl)methyl]glyciceridine\n",
      "C_{7}H_{11}NO_{5} :\n",
      "2-(2-Chlorophenyl)-2-(2-methyl-2-propanyl)-1,3-diazepan-1-one\n"
     ]
    },
    {
     "data": {
      "application/vnd.jupyter.widget-view+json": {
       "model_id": "37deb9ba6d6149469e389482224ee8a1"
      }
     },
     "metadata": {},
     "output_type": "display_data"
    },
    {
     "name": "stdout",
     "output_type": "stream",
     "text": [
      "Epoch 10 average loss = 0.5983371115937658\n",
      "C_{14}H_{19}ClO_{3} :\n",
      "N-[(2E)-N-(2-Methyl-2-butonyl)-1H-isoindol-7-yl]ethanone\n",
      "C_{7}H_{11}NO_{5} :\n",
      "2-(2-Chlorophenyl)-N-(3-methyl-1-piperazinyl)-2-propanol\n",
      "C_{18}H_{22}N_{2}O_{2}S :\n",
      "6-(3,4-Dimethyl-1,3-thiazol-1-yl)-N-(2-oxo-2-pyrrolidinyl)benzamide\n",
      "C_{7}H_{11}NO_{5} :\n",
      "N-(2-Chloro-4-methylphenyl)-N-(2-methoxyethyl)-1-propanamine\n",
      "C_{16}H_{23}FN_{2}O_{2} :\n",
      "2-Cyclo[2.2.1]heptyl-5-(3-fluoro-1-piperidinyl)butanoate\n",
      "C_{7}H_{11}NO_{5} :\n",
      "2-(2-Methoxy-3-methylphenyl)-N-(2-methyl-2-propanyl)-1,3-thiazole-5-carboxamide\n",
      "C_{13}H_{26}N_{2}O :\n",
      "2-[(3,4-Diaminopyrazolo[3,3-d]pyridin-6-ylmethyl)amino]ethanol\n",
      "C_{7}H_{11}NO_{5} :\n",
      "1-(2-Bromo-2-methoxyphenyl)-N-(2-methoxyethyl)-1-propanol\n",
      "C_{13}H_{18}FNO_{4}S :\n",
      "N-(7-Chloro-5-pyrimidinyl)-2-(1-hydroxy-3-fluorophenyl)-2(methyl-10-methoxy-1-neta-D-glucoylthionide\n",
      "C_{7}H_{11}NO_{5} :\n",
      "N-(2-Chloro-4-methylphenyl)-N-(2-methyl-2-propanyl)-1-propanol\n"
     ]
    },
    {
     "data": {
      "application/vnd.jupyter.widget-view+json": {
       "model_id": "392dd942697848a8a764d50082a3e68f"
      }
     },
     "metadata": {},
     "output_type": "display_data"
    },
    {
     "name": "stdout",
     "output_type": "stream",
     "text": [
      "Epoch 11 average loss = 0.5881992569563199\n",
      "C_{29}H_{36}N_{2}O_{6} :\n",
      "3-Fluoro-3-[(4-nitrophenyl)amino]-2-oxoethyl 1-(1-piperidinyl)-2-(4-oxo-1,3-oxazolidin-3-yl)methylene]acetohydrazide\n",
      "C_{7}H_{11}NO_{5} :\n",
      "2-[(2-Methyl-2-propanyl)oxy]-3-methyl-1-piperidinecarboxamide\n",
      "C_{17}H_{17}NO :\n",
      "2-{[5-[Dimethyl(3,4-dimethylphenyl)sulfanyl]propyl}amino)-2-methylbutanoic acid\n",
      "C_{7}H_{11}NO_{5} :\n",
      "N-(2-Chloro-2-methylphenyl)-N-(2-methyl-2-propanyl)-2-propanamine\n",
      "C_{12}H_{11}ClN_{2}O_{5}S :\n",
      "3-{6-[(2CEthyl-3-methyl-1-piperazinyl)sulfinyl]methyl}sulfanyl)-N-(2-methoxyethoxy)-2-pyridinamine\n",
      "C_{7}H_{11}NO_{5} :\n",
      "N-(2-Chloro-4-methylphenyl)-N-[2-(4-methylphenyl)-1,3-thiazol-2-yl]-1-propanamine\n",
      "C_{18}H_{20}N_{2}O_{3} :\n",
      "[2-(2-Pyridinyl)-4-oxo-2,4-dihydro-1H-imidazol-4-yl]3aninine\n",
      "C_{7}H_{11}NO_{5} :\n",
      "N-[2-(2-Methyl-2-propanyl)-1,3-thiazol-2-yl]-2-propanamine\n",
      "C_{22}H_{39}F_{3}N_{4}O_{7}S :\n",
      "N-Methyl-N-[3-(1-piperidinylmethyl)phenyl]tetrahydrazide\n",
      "C_{7}H_{11}NO_{5} :\n",
      "N-[2-(2-Methyl-2-propanyl)-1,3-thiazol-2-yl]-2-propanamine\n"
     ]
    },
    {
     "data": {
      "application/vnd.jupyter.widget-view+json": {
       "model_id": "cd251cc5265a4881af767c129d4d9b44"
      }
     },
     "metadata": {},
     "output_type": "display_data"
    },
    {
     "name": "stdout",
     "output_type": "stream",
     "text": [
      "Epoch 12 average loss = 0.5778424174495501\n",
      "C_{15}H_{22}N_{2}OS :\n",
      "N-{2-[(1R)-1-(1,4-Diethyl-1H-pyrazol-1-yl)ethyl]oxy}-1H-imidazole-5-carboxylic acid\n",
      "C_{7}H_{11}NO_{5} :\n",
      "N-(2-Chloro-4-methylphenyl)-N-(2-methyl-2-propanyl)-1,3-thiazole-4-carboxamide\n",
      "C_{12}H_{12}BrN_{3}O_{3} :\n",
      "6-(1,1-Dioxidotyclopentyl)-6-methyl-2,9-dihydro-4H-2,6-benzothiazol-5(3H)-one\n",
      "C_{7}H_{11}NO_{5} :\n",
      "N-(2-Chloro-4-methylphenyl)-2-(1-methyl-1H-pyrazol-4-yl)-1,3-thiazole-4-carboxamide\n",
      "C_{24}H_{28}N_{4}O_{6} :\n",
      "2-Bromo-3-{[4-hydroxy-2-(2-naphthyl)-1,3,4-thiadiazol-2(5H)-ylidene)methyl]isonicotinamide\n",
      "C_{7}H_{11}NO_{5} :\n",
      "1-(2-Chloro-4-methylphenyl)-2-(2-methyl-2-propanyl)-1,3-thiazole-4-carboxamide\n",
      "C_{14}H_{24}N_{4} :\n",
      "3-[(2E)-5-(4,5-dimethylphenyl)-2-(4-phenyl-1H-benzimidazol-2-yl)ethyl]propanamide\n",
      "C_{7}H_{11}NO_{5} :\n",
      "N-(2-Chloro-4-methylphenyl)-2-(2-methyl-2-propanyl)-1,3-thiazole-4-carboxamide\n",
      "C_{19}H_{19}Cl_{2}NO_{5} :\n",
      "1-(1-Cyclohexen-4-ylmethyl)-1H-pyrazole-4-carboxylic acid\n",
      "C_{7}H_{11}NO_{5} :\n",
      "N-(2-Chloro-4-methylphenyl)-2-(2-methyl-2-propanyl)-1,3-thiazole-4-carboxamide\n"
     ]
    },
    {
     "data": {
      "application/vnd.jupyter.widget-view+json": {
       "model_id": "1f611b0ea3f943d6939aa7bf346b3a3d"
      }
     },
     "metadata": {},
     "output_type": "display_data"
    },
    {
     "name": "stdout",
     "output_type": "stream",
     "text": [
      "Epoch 13 average loss = 0.5700017840033204\n",
      "C_{8}H_{8}ClNO_{2}S_{2} :\n",
      "N-Methyl-N-[({(2E)-2-(3-bromo-1-isoquroxanesylidene)ethyl](4-methoxy-2-propanyl)oxy]-3-pyridinamine\n",
      "C_{7}H_{11}NO_{5} :\n",
      "N-(2-Methyl-2-propanyl)-N-(2-methyl-2-propanyl)-1,3-thiazole-5-carboxamide\n",
      "C_{20}H_{18}N_{6}O_{2}S :\n",
      "N-(7-Chloro-3-thienyl)-1,1,3,3-tetradecahydro-7-[(E)-(5,7-dimethyl-1,4-benzodioxol-1-yl)methylene]amino}benzonitoic acid hydrochloride (1:1)\n",
      "C_{7}H_{11}NO_{5} :\n",
      "N-(2-Methoxyethyl)-N-(2-methyl-2-propanyl)-1,3-thiazole-5-carboxamide\n",
      "C_{15}H_{12}F_{3}NO_{5} :\n",
      "N-[(E)-{[3-(6-Methoxy-3-piperidinyl)-4-pyridinyl]amino}-2-oxoethylidene]hydrazino}ethyl)-4,5-dimethylbenzoate\n",
      "C_{7}H_{11}NO_{5} :\n",
      "N-(2-Methoxyethyl)-N-(2-methyl-2-propanyl)-1,3-thiazole-4-carboxamide\n",
      "C_{17}H_{24}N_{4}O_{2} :\n",
      "N-[(1E)-N-Allyl-hexylsilyloxy,2-bromet-2-ene\n",
      "C_{7}H_{11}NO_{5} :\n",
      "2-(2-Methoxyethyl)-1-piperazinyl (2-methyl-2-propanyl)amino]-2-propanol\n",
      "C_{16}H_{15}BrClNO :\n",
      "6-({5-Chloro-N-[(1-methyl-1H-pyrazol-1-yl)methyl]-2,3-dihydro-4-quinolinyl}acetamide\n",
      "C_{7}H_{11}NO_{5} :\n",
      "N-(2-Chloro-4-methylphenyl)-2-(2-methyl-2-propanyl)-1,3-thiazolidin-4-one\n"
     ]
    },
    {
     "data": {
      "application/vnd.jupyter.widget-view+json": {
       "model_id": "15b02facf48d476da2dd11d800acb165"
      }
     },
     "metadata": {},
     "output_type": "display_data"
    },
    {
     "name": "stdout",
     "output_type": "stream",
     "text": [
      "Epoch 14 average loss = 0.5670676655775472\n",
      "C_{12}H_{12}N_{6}OS :\n",
      "[4-(2H-Imidazol-4-yl)ethyl]carbamoyl}-2-cyclopropylbenzamide\n",
      "C_{7}H_{11}NO_{5} :\n",
      "2-(3-Chloro-4-fluorophenyl)-2-(4-methylphenyl)-2-methyl-1-propanamine\n",
      "C_{10}H_{12}Br_{2}N_{2}O_{2} :\n",
      "(2R)-1-[(1-Methyl-1H-pyrazol-4-yl)methyl]-3-phenyl-1H-imidazol-4-amine\n",
      "C_{7}H_{11}NO_{5} :\n",
      "1-(2-Methoxyphenyl)-N-(2-methyl-2-propanyl)-1-propanamine\n",
      "C_{15}H_{21}NO_{4} :\n",
      "Methyl{3-[(4-chlorobenzyl)amino]-12-amino-2-pyrrolidinecarboxylate\n",
      "C_{7}H_{11}NO_{5} :\n",
      "2-(3-Chlorophenyl)-2-(4-methylphenyl)-2-(4-methylphenyl)-1,3-thiazole-4-carboxamide\n",
      "C_{21}H_{21}FN_{4}O :\n",
      "1-{[3-(3-Bromophenyl)ethyl]carbamoyl}-3-chlorobenzoate\n",
      "C_{7}H_{11}NO_{5} :\n",
      "1-(2-Chloro-4-methoxyphenyl)-2-(2-methyl-2-propanyl)-1,3-thiazole-4-carboxamide\n",
      "C_{17}H_{22}N_{2}O :\n",
      "Ethyl 1-[(2-cyano3-2-propanyl)sulfonyl]propanoic acid\n",
      "C_{7}H_{11}NO_{5} :\n",
      "N-[(2-Methyl-2-propanyl)amino]-2-oxoethyl 3-(4-fluorophenyl)-1-propanone\n"
     ]
    },
    {
     "data": {
      "application/vnd.jupyter.widget-view+json": {
       "model_id": "922a87ffddeb49ec89d4cdfb2a9dc313"
      }
     },
     "metadata": {},
     "output_type": "display_data"
    },
    {
     "name": "stdout",
     "output_type": "stream",
     "text": [
      "Epoch 15 average loss = 0.5580802395728317\n",
      "C_{19}H_{18}ClN_{3}O_{3}S :\n",
      "2-[2-(Chloromethyl)cyclobutanoyl]-3-chlorobenzamide\n",
      "C_{7}H_{11}NO_{5} :\n",
      "1-(2-Chloro-4-methoxyphenyl)-2-(2-fluorophenyl)-2-methyl-1H-pyrazole-4-carboxamide\n",
      "C_{19}H_{21}N_{3}O_{4}S :\n",
      "5-Hydroxy-5-{[1,4,4]triazino[3,5-b]pyrazol-9-yl(2-cyclohexen-1-yl)carbonyl]amino}phenonitrile\n",
      "C_{7}H_{11}NO_{5} :\n",
      "2-(2-Chloro-4-methoxyphenyl)-2-(2-methoxyphenyl)-2-methyl-1H-pyrazole-4-carboxamide\n",
      "C_{11}H_{11}F_{3}N_{4} :\n",
      "1-(2,5-Difluorophenyl)-N-(2-pentanyl)-N,4-dimethyl-1-sulfanylpropanamide\n",
      "C_{7}H_{11}NO_{5} :\n",
      "2-(2-Chlorophenyl)-2-(2-fluorophenyl)-2-(2-methoxyphenyl)-1H-pyrazole-4-carboxamide\n",
      "C_{16}H_{18}N_{2}O_{3} :\n",
      "3-(3-Methoxyphenyl)-2-(2-fluorophenyl)ethanamine\n",
      "C_{7}H_{11}NO_{5} :\n",
      "1-(3-Chloro-4-methoxyphenyl)-2-(2-methoxyphenyl)-2-(2-methoxyethyl)-1H-pyrrole-2-carboxamide\n",
      "C_{15}H_{22}N_{2}O_{3} :\n",
      "2-Bromo-N-[4-(2-methyl-2-propanyl)-1-piperazinyl]-3-hydroxy-3-methylcyclohexanamine\n",
      "C_{7}H_{11}NO_{5} :\n",
      "N-(2-Methoxyphenyl)-2-(2-pyridinyl)-1,3-thiazole-5-carboxamide\n"
     ]
    },
    {
     "data": {
      "application/vnd.jupyter.widget-view+json": {
       "model_id": "45918896cb614034a02bd45b367cf6d1"
      }
     },
     "metadata": {},
     "output_type": "display_data"
    },
    {
     "name": "stdout",
     "output_type": "stream",
     "text": [
      "Epoch 16 average loss = 0.5516258677497483\n",
      "C_{24}H_{21}FN_{4}O_{4}S :\n",
      "2-Methoxy-N-[1-(methylsurfonyl)phenyl]acetamide\n",
      "C_{7}H_{11}NO_{5} :\n",
      "N-(2-Chloro-4-methylphenyl)-2-(3-methyl-1-piperidinyl)-1-propanamine\n",
      "C_{21}H_{21}N_{3}O_{5}S :\n",
      "2-{[2-(1,3-Benzodioxol-5-yl)-4,5-dibismero-2H-terazol-5-yl]propanoyl}-N-[2-(isopropylsulfanyl)butyl]-5-hexanaminiumimide\n",
      "C_{7}H_{11}NO_{5} :\n",
      "2-(2-Methyl-2-propanyl)-2-(3-methyl-1-piperazinyl)-1-propanol\n",
      "C_{17}H_{28}N_{2}O_{2} :\n",
      "1-{4-[(2-Methyl-2-propanyl)oxy]phenyl}-4-methyl-2-oxopropanomidamide\n",
      "C_{7}H_{11}NO_{5} :\n",
      "N-(2-Methyl-2-propanyl)-N-(2-methyl-2-propanyl)-1-propanamine\n",
      "C_{15}H_{31}NO_{3} :\n",
      "Methyl 2-{[(1-methylcalbamothioyl)amino]acetyl}amino)butanate\n",
      "C_{7}H_{11}NO_{5} :\n",
      "2-(3-Chloro-4-methylphenyl)-2-(3-methyl-1-piperazinyl)-2-propanol\n",
      "C_{17}H_{19}ClN_{4}O_{2} :\n",
      "(2R)-1-{[(2-Propyl-1H-hydro-1-benzofuran-7-yl)amino]methyl}-1,3-benzodioxole\n",
      "C_{7}H_{11}NO_{5} :\n",
      "N-(2-Methyl-2-propanyl)-N-(2-methyl-2-propanyl)-1-propanamine\n"
     ]
    },
    {
     "data": {
      "application/vnd.jupyter.widget-view+json": {
       "model_id": "8f8a8d696d5c4e27a37276e90f4d0acf"
      }
     },
     "metadata": {},
     "output_type": "display_data"
    },
    {
     "name": "stdout",
     "output_type": "stream",
     "text": [
      "Epoch 17 average loss = 0.5440411738319887\n",
      "C_{21}H_{29}FN_{2}O_{2} :\n",
      "(3S)-4-[(2-Methoxyethyl)hexanoyl]carbamoyl}-1-(1,2,5-trimethyl-1H-pyrazol-1-yl)-N-(2-propyn-1-ylmethyl)glycinamide\n",
      "C_{7}H_{11}NO_{5} :\n",
      "2-(2-Chloro-4-fluorophenyl)-2-(2-methyl-2-propanyl)-1H-pyrazole-4-carboxylic acid\n",
      "C_{14}H_{22}N_{2}OS :\n",
      "1-(1-Amino-2-butanyl)-N~2~-[2-(3-iodophenyl)ethyl]aniline\n",
      "C_{7}H_{11}NO_{5} :\n",
      "N-(2-Chloro-4-methylphenyl)-2-(2-methyl-2-propanyl)-1H-pyrazole-4-carboxamide\n",
      "C_{16}H_{17}ClOS :\n",
      "5-Ethyl-3-(2-bromophenyl)-1H-benzimidazole\n",
      "C_{7}H_{11}NO_{5} :\n",
      "2-(2-Methoxyethyl)-1-piperidinyl (2-methyl-2-propanyl)amino]benzamide\n",
      "C_{16}H_{27}N_{3}O :\n",
      "7-Methyl-3,3-dimethylthieno[2,3-d]pyrimidine-5-sulfonamide\n",
      "C_{7}H_{11}NO_{5} :\n",
      "N-(2-Chloro-4-fluorophenyl)-2-(2-methyl-2-propanyl)benzamide\n",
      "C_{14}H_{18}F_{3}NOS :\n",
      "2,2-Dimethyl-N~1~-(3-piperidinylmethyl)benzamide\n",
      "C_{7}H_{11}NO_{5} :\n",
      "2-(2-Chloro-4-fluorophenyl)-2-(2-methyl-2-propanyl)-1H-pyrazole-4-carboxylic acid\n"
     ]
    },
    {
     "data": {
      "application/vnd.jupyter.widget-view+json": {
       "model_id": "22092df5e1424d53aeb6e7e30ece9065"
      }
     },
     "metadata": {},
     "output_type": "display_data"
    },
    {
     "name": "stdout",
     "output_type": "stream",
     "text": [
      "Epoch 18 average loss = 0.5347664061220082\n",
      "C_{16}H_{22}BrNO_{2}S :\n",
      "N-{[4-(3-Methoxypropyl)-3,5-dimethyl-1H-pyrazol-4-yl]methyl}-1-propanamine\n",
      "C_{7}H_{11}NO_{5} :\n",
      "N-(2-Chloro-4-methylphenyl)-2-(2-methyl-2-propanyl)-1,3-thiazole-4-carboxamide\n",
      "C_{9}H_{12}BrN_{3}OS :\n",
      "2-(1-Azepanyl)-2-methyl-2-propanol\n",
      "C_{7}H_{11}NO_{5} :\n",
      "N-(2-Chloro-4-methylphenyl)-2-(4-methylphenyl)-1,3-thiazole-4-carboxamide\n",
      "C_{15}H_{14}BrClO :\n",
      "Methyl (2S,3aS,6aR)-4-{[(S)-(4-chlorophenyl)amino]methylene}-2,3-dihydro-1,4-benzoxazepin-8-amine\n",
      "C_{7}H_{11}NO_{5} :\n",
      "N-(2-Chloro-4-methylphenyl)-2-(2-methyl-2-propanyl)-1,3-thiazole-4-carboxamide\n",
      "C_{12}H_{20}N_{4} :\n",
      "Euta\n",
      "C_{7}H_{11}NO_{5} :\n",
      "N-(2-Chloro-4-methylphenyl)-2-(2-methoxyethyl)-1,3-thiazole-4-carboxamide\n",
      "C_{10}H_{18}N_{2}O_{4}S :\n",
      "(2S)-3-Cyclopropyl-3-{2-[(2-bromo-5-nitrophenyl)amino]-2-oxoethyl}benzoflooremidene\n",
      "C_{7}H_{11}NO_{5} :\n",
      "N-(2-Chloro-4-methylphenyl)-2-(2-methoxyethyl)-1,3-thiazole-4-carboxamide\n"
     ]
    },
    {
     "data": {
      "application/vnd.jupyter.widget-view+json": {
       "model_id": "8a07cdac3ff24ac3a73d9e4d63c03cf6"
      }
     },
     "metadata": {},
     "output_type": "display_data"
    },
    {
     "name": "stdout",
     "output_type": "stream",
     "text": [
      "Epoch 19 average loss = 0.5299654523003001\n",
      "C_{12}H_{23}NO_{4} :\n",
      "(1-Cyclopentyl-1(1H)-quinolinyl)[(3R)-3-pyrrolidinylmethyl)(methyl)amino]acetic acid\n",
      "C_{7}H_{11}NO_{5} :\n",
      "(2S)-2-(4-Bromo-2-methoxyphenyl)-2-(2-methyl-2-propanyl)-1,3-thiazole-5-carboxamide\n",
      "C_{22}H_{32}N_{4}O_{5}S_{2} :\n",
      "4-Amino-N-(3,3,4-trimethyl-1-piperidinyl)-N-(5-methyl-2-pyridinyl)cyclopropanecarboxamide\n",
      "C_{7}H_{11}NO_{5} :\n",
      "N-(2-Chloro-4-methylphenyl)-2-(4-methylphenyl)-1,2-dihydro-3-pyridinecarboxamide\n",
      "C_{17}H_{19}N_{3}O_{3} :\n",
      "(2E)-3-(4-Benzyl-3-chloro-4-chlorophenyl)-2-(4-methoxyphenyl)-1H-pyrazole-3-carboxamide\n",
      "C_{7}H_{11}NO_{5} :\n",
      "N-(2-Amino-2-oxoethyl)-2-methyl-1-pentanamine\n",
      "C_{14}H_{24}N_{4}O :\n",
      "1-(2-Furoyl)-2,2-dimethyl-N-methyl-2-thioxo-1,3-thiazolidin-4-one\n",
      "C_{7}H_{11}NO_{5} :\n",
      "N-(2-Chloro-4-methylphenyl)-2-(2-methyl-2-propanyl)-1,3-thiazole-5-carboxamide\n",
      "C_{21}H_{23}N_{3}O_{4}S_{2} :\n",
      "N-Benzyl-2-[(3,4-dimethylphenoxy)ic acatrilonicotinate asimide\n",
      "C_{7}H_{11}NO_{5} :\n",
      "N-(2-Cyano-2-pyridinyl)-2-(4-methylphenyl)-1,2-dihydro-3-pyridinecarboxamide\n"
     ]
    },
    {
     "data": {
      "application/vnd.jupyter.widget-view+json": {
       "model_id": "6521afb8a3764b2eae1a05e7e88d3fb7"
      }
     },
     "metadata": {},
     "output_type": "display_data"
    },
    {
     "name": "stdout",
     "output_type": "stream",
     "text": [
      "Epoch 20 average loss = 0.529036500302744\n",
      "C_{16}H_{22}ClF_{2}N :\n",
      "N-(2-Aminopropyl)-N-{1-methyl-1-(2-pyridinyl)ethyl]urea\n",
      "C_{7}H_{11}NO_{5} :\n",
      "N-[(1S)-1-(3-Bromophenyl)-1,3-thiazol-2-yl]-2-methyl-1-propanamine\n",
      "C_{22}H_{24}N_{4}O_{3} :\n",
      "N-(4-Fluorobenzyl)-2-sulfanylbenzamide\n",
      "C_{7}H_{11}NO_{5} :\n",
      "1-(2-Chloro-4-fluorophenyl)-2-(3-methyl-1-piperidinyl)-1-propanone\n",
      "C_{13}H_{18}N_{4}O_{3}S :\n",
      "4-Chloro-phenyl {N-({[N-(3-bromo-4-fluorobenzyl)imidohydecyn]oxy]-1-piperazinyl]-4-quinazolinecarboxylate\n",
      "C_{7}H_{11}NO_{5} :\n",
      "1-(2-Chloro-4-fluorophenyl)-N-methyl-1-butanamine\n",
      "C_{18}H_{19}F_{3}N_{2}O_{4}S :\n",
      "N-Cyclopropyl-2,5-dimethyl-N-[5-(2-phenylethyl)-beta-alanyl]-D-alanine\n",
      "C_{7}H_{11}NO_{5} :\n",
      "2-(2-Bromo-4-methoxyphenyl)-2-(2-methoxyphenyl)-1,3-oxazole-5-carboxylic acid\n",
      "C_{14}H_{23}ClN_{2}O_{5}S :\n",
      "N'-[(E)-(2-Phenylethyl)amino}-2-oxoethyl thiouonanic acid fluorete\n",
      "C_{7}H_{11}NO_{5} :\n",
      "3-[(3-Chloro-4-fluorophenyl)amino]-2-oxoethyl (2-methyl-2-propanyl)amino]acetate\n"
     ]
    },
    {
     "data": {
      "application/vnd.jupyter.widget-view+json": {
       "model_id": "6b04d791c0a247f29f3584bf5f120a30"
      }
     },
     "metadata": {},
     "output_type": "display_data"
    },
    {
     "name": "stdout",
     "output_type": "stream",
     "text": [
      "Epoch 21 average loss = 0.5293859817455203\n",
      "C_{20}H_{35}NO :\n",
      "N-[1-(Butylsulfanyl)-3-propyn-1-yl]hexahydro-2-thiophenecarboxamide\n",
      "C_{7}H_{11}NO_{5} :\n",
      "2-(2-Chloro-4-methylphenyl)-2-(2-methyl-2-propanyl)-1,3-thiazole-5-carboxylic acid\n",
      "C_{10}H_{16}N_{4}O_{4}S :\n",
      "2-[(1,1-Dioxido-2,3-dihydro-4-benzothiophen-2-yl)methyl]-N-ethylacetamide\n",
      "C_{7}H_{11}NO_{5} :\n",
      "1-(2-Chloro-4-fluorophenyl)-2-(2-methyl-2-propanyl)-1,3-thiazole-5-carboxylic acid\n",
      "C_{9}H_{4}BrCl_{3}N_{4}O :\n",
      "N-(3,5-Dichlorophenyl)-1-methyl-1-butanamine\n",
      "C_{7}H_{11}NO_{5} :\n",
      "2-(2-Chloro-4-fluorophenyl)-2-(2-methyl-2-propanyl)-1,3-thiazol-2-amine\n",
      "C_{17}H_{19}N_{3}O_{2}S :\n",
      "N-{1-[5-(Hydroxymethyl)phenoxy]phenyl}-N-methylsulfonyl]alaninamide\n",
      "C_{7}H_{11}NO_{5} :\n",
      "1-(2-Chloro-4-methylphenyl)-2-(2-methyl-2-propanyl)-1,3-thiazole-5-carboxylic acid\n",
      "C_{13}H_{20}BrFN_{2}O :\n",
      "N-[4-Cyclopentyl-2-(3-piperidinyl)-3-pyridinyl]methanamine\n",
      "C_{7}H_{11}NO_{5} :\n",
      "1-(2-Chloro-4-fluorophenyl)-2-(2-methyl-2-propanyl)-1,3-thiazole\n"
     ]
    },
    {
     "data": {
      "application/vnd.jupyter.widget-view+json": {
       "model_id": "d4aaa2a4758f4a30ac831da29cf157c6"
      }
     },
     "metadata": {},
     "output_type": "display_data"
    },
    {
     "name": "stdout",
     "output_type": "stream",
     "text": [
      "Epoch 22 average loss = 0.5217812466722198\n",
      "C_{14}H_{17}ClFN_{3} :\n",
      "5,6-Dioxo-5,1''-dihydro-3H-indeno[2,3-c]quinolin-6(5H)-one\n",
      "C_{7}H_{11}NO_{5} :\n",
      "N-(2-Chloro-4-methoxyphenyl)-2-(3-methoxyphenyl)acetamide\n",
      "C_{8}H_{14}ClN_{3} :\n",
      "3-Methoxy-2-O-(2,3,6-trimethoxybenzoyl)-1-benzofuran-2-ium\n",
      "C_{7}H_{11}NO_{5} :\n",
      "2-[(2-Methoxyphenyl)amino]-2-oxoethyl (2E)-3-(2-methoxyphenyl)acrylate\n",
      "C_{13}H_{22}N_{2}S :\n",
      "N~2~-(1,3-Diphenylcyclobutyl)-N'-ethoxy-4-pyrimidinecarboxamide\n",
      "C_{7}H_{11}NO_{5} :\n",
      "N-(2-Chloro-4-methoxyphenyl)-2-(2-methoxyethyl)-1H-pyrazole-4-carboxamide\n",
      "C_{16}H_{27}NOS :\n",
      "5-[(5-Hydrazino-2-pyrimidinyl)methyl]-N-methylacetamide\n",
      "C_{7}H_{11}NO_{5} :\n",
      "(2S)-2-(2,3-Dihydro-1,4-benzodioxin-6-yl)-N-(2-methoxyethyl)-2-propanamine\n",
      "C_{21}H_{16}N_{2}O_{2}S_{3} :\n",
      "5-[3-(3aH-Benzofuran-2-yl)-1-[2-oxo-2-phenyl-2-propanyl]-1H-pyrazolo[3,4-d]pyrimidin-5(4H)-ylidene]acetohydrazide\n",
      "C_{7}H_{11}NO_{5} :\n",
      "3-(2-Methoxyphenyl)-1-(2-methoxyethyl)-1H-pyrazole-4-carboxamide\n"
     ]
    },
    {
     "data": {
      "application/vnd.jupyter.widget-view+json": {
       "model_id": "fa8278ce30ff417ab5fd58d2d544e023"
      }
     },
     "metadata": {},
     "output_type": "display_data"
    },
    {
     "name": "stdout",
     "output_type": "stream",
     "text": [
      "Epoch 23 average loss = 0.5206305054486711\n",
      "C_{20}H_{13}BrClN_{5}O_{3} :\n",
      "1-(3,4-Dichlorophenyl)-2-{[2-(4-methylphenyl)-1H-1,2,4-triazol-3-yl]sulfanyl}acetamide\n",
      "C_{7}H_{11}NO_{5} :\n",
      "5-(3-Chloro-4-methylphenyl)-2-methyl-2-propen-1-ol\n",
      "C_{22}H_{20}ClFN_{4}O_{2}S :\n",
      "N-{3-[(2-Ethoxy-4,5-dimethyl-2-furyl)methyl]-2-piperidinyl}propanamide\n",
      "C_{7}H_{11}NO_{5} :\n",
      "2-(2-Methyl-2-propanyl)-1-piperidinecarboxylic acid\n",
      "C_{15}H_{20}F_{3}NO :\n",
      "N-Cyclohexylethyr (methylamino)acetate hydrochloride (1:1)\n",
      "C_{7}H_{11}NO_{5} :\n",
      "N-(2-Chloro-4-methylphenyl)-2-(3-methyl-1-piperidinyl)ethanamine\n",
      "C_{21}H_{19}Cl_{3}N_{2}O_{3} :\n",
      "N-[2-(3,4-Dimethoxyphenyl)-6-methyl-2-pyridinyl]-4-(methylsulfonyl)-2-pyrrolidinecarboxamide\n",
      "C_{7}H_{11}NO_{5} :\n",
      "2-(3-Chloro-4-methylphenyl)-2-(3-methylphenyl)-1-propanamine\n",
      "C_{15}H_{19}FN_{4}O :\n",
      "3-[(2-Aminobenzyl)oxy]benzoic acid\n",
      "C_{7}H_{11}NO_{5} :\n",
      "1-[(2-Methyl-2-propanyl)oxy]-3-methyl-1-piperidinecarboxylic acid\n"
     ]
    },
    {
     "data": {
      "application/vnd.jupyter.widget-view+json": {
       "model_id": "4c8cc3061f8b4015ab8c2fccd5c78995"
      }
     },
     "metadata": {},
     "output_type": "display_data"
    },
    {
     "name": "stdout",
     "output_type": "stream",
     "text": [
      "Epoch 24 average loss = 0.5138999234738852\n",
      "C_{11}H_{22}N_{2}O_{2} :\n",
      "1-{[(1-ethyl-1H-imidazol-2-yl)carbonyl]glycyl}-1,3-thiazole-4-carbonitrile\n",
      "C_{7}H_{11}NO_{5} :\n",
      "2-(2-Methyl-2-propanyl)-1-(2-methyl-2-propanyl)-1H-pyrazole-4-carboxylic acid\n",
      "C_{15}H_{23}N_{5} :\n",
      "N'-[(Z)-(2-Ethylphenyl)methylene]-2,6-dihydro-3H-1,4,4-triazole-4-sulfonamide\n",
      "C_{7}H_{11}NO_{5} :\n",
      "2-(2-Chloro-4-fluorophenyl)-2-(2-methyl-2-propanyl)-1,3-thiazole\n",
      "C_{15}H_{30}N_{2}O_{2} :\n",
      "7-Amino-6,7a,7,7a-trimethyl-2,5,6,7-tetrahydro[1,3,4]thiadiazolo[3,4-a]pyrazine-6-carboxylic acid\n",
      "C_{7}H_{11}NO_{5} :\n",
      "2-(2-Methyl-2-propanyl)-1-(2-methyl-2-propanyl)-1,3-thiazole-4-carbonitrile\n",
      "C_{25}H_{37}NO_{6} :\n",
      "1-(3-Fluorophenyl)-2-[({2-[2-(phenoxycarbonylamino)-2-oxoethyl]-1-pyrrolidinyl}methyl)-2-butanol\n",
      "C_{7}H_{11}NO_{5} :\n",
      "2-(2-Chloro-4-fluorophenyl)-2-(2-methyl-2-propanyl)-1,3-thiazole\n",
      "C_{13}H_{18}BrNO_{3} :\n",
      "(1S,2E)-2-[5-Hydrazino-4-(1-piperidinyl)ethyl]piperazine\n",
      "C_{7}H_{11}NO_{5} :\n",
      "2-(2-Amino-2-propanyl)-3-(2-methyl-2-propanyl)-1,3-thiazole\n"
     ]
    },
    {
     "data": {
      "application/vnd.jupyter.widget-view+json": {
       "model_id": "e8492cbd11b741fca37a68cff7f5fd60"
      }
     },
     "metadata": {},
     "output_type": "display_data"
    },
    {
     "name": "stdout",
     "output_type": "stream",
     "text": [
      "Epoch 25 average loss = 0.5130262657421168\n",
      "C_{12}H_{18}N_{2}O_{4} :\n",
      "2-Bromo-N-[2-(2-fluorophenyl)-2-hydrazinobutanone hydrochloride (1:1)\n",
      "C_{7}H_{11}NO_{5} :\n",
      "N-(2-Chloro-4-methylphenyl)-2-(2-methyl-2-propanyl)-1-propanamine\n",
      "C_{13}H_{12}F_{3}NO_{2} :\n",
      "Methyl 2-deoxy-3-hydroxy-3-fluoro-4-methoxy-3-pyrrolidinecarboxylate\n",
      "C_{7}H_{11}NO_{5} :\n",
      "2-(2-Bromophenyl)-2-(2-methyl-2-propanyl)-1,2,4-oxadiazole\n",
      "C_{15}H_{21}N_{3}OS :\n",
      "2-[(1E)-1,1-Dioxidotetrahydro-2H-pyran-3-yl]methanesulfonamide\n",
      "C_{7}H_{11}NO_{5} :\n",
      "N-(2-Chloro-4-methylphenyl)-2-methyl-2-propanamine\n",
      "C_{18}H_{19}N_{5}O_{4} :\n",
      "4-Hydroxy-4-[E)-2-(2-methyl-2-propanyl)-2-pyrimidinyl]-N-[1-(2-pyrimidinylmethoxy)phenyl]acetamide\n",
      "C_{7}H_{11}NO_{5} :\n",
      "2-(2-Methoxyethyl)-1-(2-methyl-2-propanyl)-1,2,4-oxadiazole\n",
      "C_{15}H_{17}N_{5}O :\n",
      "4-{[(4-Amino-2-methylphenyl)sulfanyl]methyl}pyrrolidine\n",
      "C_{7}H_{11}NO_{5} :\n",
      "2-(2-Methoxyethyl)-2-(2-methyl-2-propanyl)-1,3-thiazole-5-carboxamide\n"
     ]
    },
    {
     "data": {
      "application/vnd.jupyter.widget-view+json": {
       "model_id": "8903095de1be48d8b6ab9c28f49b071c"
      }
     },
     "metadata": {},
     "output_type": "display_data"
    },
    {
     "name": "stdout",
     "output_type": "stream",
     "text": [
      "Epoch 26 average loss = 0.5112156044536383\n",
      "C_{16}H_{17}N_{5}O_{2} :\n",
      "2-Hydroxybenzo[1,1-b][1,2,3]thiazolo[3,2-b][2,4,7,10-hexamethyl-6-quinolinecarbonitrile\n",
      "C_{7}H_{11}NO_{5} :\n",
      "2-[(2-Methoxyethyl)amino]-2-(2-methyl-2-propanyl)-1-propanol\n",
      "C_{24}H_{22}N_{4}O_{2} :\n",
      "N-[2-(4-Ethoxy-5-nitrophenyl)-6-(1H-indol-3-yl)ethyl]-3-(1-piperazinyl)-7-(1-piperidinyl)-2-propanamine\n",
      "C_{7}H_{11}NO_{5} :\n",
      "2-(2-Methoxyethoxy)-N-(2-methyl-2-propanyl)-1-propanamine\n",
      "C_{22}H_{14}ClFN_{4}O_{2} :\n",
      "5-[6-(3,4-Dimethoxyphenyl)-2-piperazinyl]-N,N-bicyclo[4.2.2]octane-2-carboxamide\n",
      "C_{7}H_{11}NO_{5} :\n",
      "2-(2-Methoxy-5-methylphenyl)-1-(2-methyl-2-propanyl)-1,3-thiazole-4-carboxylic acid\n",
      "C_{21}H_{20}O_{11} :\n",
      "5-(4-Decuolinyl)-5-phenyl-5-nitro(2-methoxyethyl)-2-phenylacetamide hydrochloride (1:1)\n",
      "C_{7}H_{11}NO_{5} :\n",
      "2-(2-Methoxy-5-methylphenyl)-1-(2-methyl-2-propanyl)-1H-pyrazole\n",
      "C_{10}H_{14}N_{2}O :\n",
      "3-Methoxy-1,3-dimethyl-N-isopropyl-1-pentanamine\n",
      "C_{7}H_{11}NO_{5} :\n",
      "2-Methyl-2-propanyl 4-(2-methoxyethyl)-1H-pyrazole-4-carboxylate\n"
     ]
    },
    {
     "data": {
      "application/vnd.jupyter.widget-view+json": {
       "model_id": "ba746e3a55e54925a404d02803b4c762"
      }
     },
     "metadata": {},
     "output_type": "display_data"
    },
    {
     "name": "stdout",
     "output_type": "stream",
     "text": [
      "Epoch 27 average loss = 0.5054851029345762\n",
      "C_{23}H_{32}N_{4}OS_{2} :\n",
      "N-(4-Buten-3-ylsulfanyl)-N-[4-(difluoromethoxy)phenyl]acetone\n",
      "C_{7}H_{11}NO_{5} :\n",
      "2-(2-Methoxyphenyl)-1-(2-methyl-2-propanyl)-1H-pyrazole\n",
      "C_{15}H_{21}ClF_{3}N_{3}O_{4}S :\n",
      "N-{[(2-Aminoethoxy)carbamoyl]amino}-2-oxoethyl 3-(1,3,4-thiadiazol-2-ylmethyl)-1,3-oxazole-5-carboxylate\n",
      "C_{7}H_{11}NO_{5} :\n",
      "N-(2-Chloro-4-methylphenyl)-2-(2-methyl-2-propanyl)-1,3-thiazol-2-amine\n",
      "C_{16}H_{28}N_{2}O_{3} :\n",
      "4-(2-Ethyl-1,3,4-thio[ablfaten-1-yl)-2-(4-ethoxyphenyl)-1-(dimethylamino)benzonitrile\n",
      "C_{7}H_{11}NO_{5} :\n",
      "2-(2-Hydroxyethyl)-3-(2-methyl-2-propanyl)-1H-pyrazole\n",
      "C_{18}H_{23}NO :\n",
      "4-(6-Bromo-3,4,5-trimethylphenyl)-2-methyl-2-propen-1-yl]-3-(3-pyridinyl)benzene\n",
      "C_{7}H_{11}NO_{5} :\n",
      "2-(2-Methoxyphenyl)-1-(2-methyl-2-propanyl)-1H-pyrazole\n",
      "C_{29}H_{32}N_{2}O_{4} :\n",
      "N-[3-(4-Fluorophenyl)-3-(3-hydroxy-6-methoxyphenyl)-2-oxoethyl]-3-(1-methyl-1H-pyrazol-5-yl)-3-methyl-1,3-oxazole-4-carboxamide\n",
      "C_{7}H_{11}NO_{5} :\n",
      "2-(2-Hydroxyethyl)-N-(2-methyl-2-propanyl)-1-pentanamine\n"
     ]
    },
    {
     "data": {
      "application/vnd.jupyter.widget-view+json": {
       "model_id": "4c58f316d19746d7b8d0bdb75eb110b7"
      }
     },
     "metadata": {},
     "output_type": "display_data"
    },
    {
     "ename": "KeyboardInterrupt",
     "evalue": "",
     "output_type": "error",
     "traceback": [
      "\u001b[0;31m\u001b[0m",
      "\u001b[0;31mKeyboardInterrupt\u001b[0mTraceback (most recent call last)",
      "\u001b[0;32m<ipython-input-22-e2e4b0e5709e>\u001b[0m in \u001b[0;36m<module>\u001b[0;34m()\u001b[0m\n\u001b[1;32m     19\u001b[0m \u001b[0;34m\u001b[0m\u001b[0m\n\u001b[1;32m     20\u001b[0m         \u001b[0mx\u001b[0m\u001b[0;34m,\u001b[0m \u001b[0my\u001b[0m \u001b[0;34m=\u001b[0m \u001b[0msample_batch\u001b[0m\u001b[0;34m(\u001b[0m\u001b[0msource_seqs\u001b[0m\u001b[0;34m,\u001b[0m \u001b[0mtarget_seqs\u001b[0m\u001b[0;34m,\u001b[0m \u001b[0mbatch_size\u001b[0m\u001b[0;34m)\u001b[0m\u001b[0;34m\u001b[0m\u001b[0m\n\u001b[0;32m---> 21\u001b[0;31m         \u001b[0mavg_cost\u001b[0m \u001b[0;34m+=\u001b[0m \u001b[0mtrain\u001b[0m\u001b[0;34m(\u001b[0m\u001b[0mx\u001b[0m\u001b[0;34m,\u001b[0m \u001b[0my\u001b[0m\u001b[0;34m)\u001b[0m\u001b[0;34m.\u001b[0m\u001b[0mmean\u001b[0m\u001b[0;34m(\u001b[0m\u001b[0;34m)\u001b[0m\u001b[0;34m\u001b[0m\u001b[0m\n\u001b[0m\u001b[1;32m     22\u001b[0m \u001b[0;34m\u001b[0m\u001b[0m\n\u001b[1;32m     23\u001b[0m     \u001b[0mprint\u001b[0m\u001b[0;34m(\u001b[0m\u001b[0;34m\"Epoch {} average loss = {}\"\u001b[0m\u001b[0;34m.\u001b[0m\u001b[0mformat\u001b[0m\u001b[0;34m(\u001b[0m\u001b[0mepoch\u001b[0m\u001b[0;34m,\u001b[0m \u001b[0mavg_cost\u001b[0m \u001b[0;34m/\u001b[0m \u001b[0mbatches_per_epoch\u001b[0m\u001b[0;34m)\u001b[0m\u001b[0;34m)\u001b[0m\u001b[0;34m\u001b[0m\u001b[0m\n",
      "\u001b[0;32m/usr/local/lib/python3.5/dist-packages/theano/compile/function_module.py\u001b[0m in \u001b[0;36m__call__\u001b[0;34m(self, *args, **kwargs)\u001b[0m\n\u001b[1;32m    882\u001b[0m         \u001b[0;32mtry\u001b[0m\u001b[0;34m:\u001b[0m\u001b[0;34m\u001b[0m\u001b[0m\n\u001b[1;32m    883\u001b[0m             \u001b[0moutputs\u001b[0m \u001b[0;34m=\u001b[0m\u001b[0;31m\\\u001b[0m\u001b[0;34m\u001b[0m\u001b[0m\n\u001b[0;32m--> 884\u001b[0;31m                 \u001b[0mself\u001b[0m\u001b[0;34m.\u001b[0m\u001b[0mfn\u001b[0m\u001b[0;34m(\u001b[0m\u001b[0;34m)\u001b[0m \u001b[0;32mif\u001b[0m \u001b[0moutput_subset\u001b[0m \u001b[0;32mis\u001b[0m \u001b[0;32mNone\u001b[0m \u001b[0;32melse\u001b[0m\u001b[0;31m\\\u001b[0m\u001b[0;34m\u001b[0m\u001b[0m\n\u001b[0m\u001b[1;32m    885\u001b[0m                 \u001b[0mself\u001b[0m\u001b[0;34m.\u001b[0m\u001b[0mfn\u001b[0m\u001b[0;34m(\u001b[0m\u001b[0moutput_subset\u001b[0m\u001b[0;34m=\u001b[0m\u001b[0moutput_subset\u001b[0m\u001b[0;34m)\u001b[0m\u001b[0;34m\u001b[0m\u001b[0m\n\u001b[1;32m    886\u001b[0m         \u001b[0;32mexcept\u001b[0m \u001b[0mException\u001b[0m\u001b[0;34m:\u001b[0m\u001b[0;34m\u001b[0m\u001b[0m\n",
      "\u001b[0;31mKeyboardInterrupt\u001b[0m: "
     ]
    }
   ],
   "source": [
    "from tqdm import tqdm_notebook\n",
    "\n",
    "#total N iterations\n",
    "n_epochs = 100\n",
    "\n",
    "# how many minibatches are there in the epoch \n",
    "batches_per_epoch = 500\n",
    "\n",
    "#how many training sequences are processed in a single function call\n",
    "batch_size = 16\n",
    "\n",
    "\n",
    "for epoch in tqdm_notebook(range(n_epochs)):\n",
    "\n",
    "\n",
    "    avg_cost = 0;\n",
    "    \n",
    "    for _ in tqdm_notebook(range(batches_per_epoch)):\n",
    "        \n",
    "        x, y = sample_batch(source_seqs, target_seqs, batch_size)\n",
    "        avg_cost += train(x, y).mean()\n",
    "        \n",
    "    print(\"Epoch {} average loss = {}\".format(epoch, avg_cost / batches_per_epoch))\n",
    "    for i in range(5):\n",
    "        ind = np.random.randint(len(source_seqs))\n",
    "        print(source_seqs[ind], ':')\n",
    "        print(''.join(generate_output(source_seqs[ind], sample=True)[1:-1]))\n",
    "        print('C_{7}H_{11}NO_{5}', ':')\n",
    "        print(''.join(generate_output(\"C_{7}H_{11}NO_{5}\", temperature=.1)[1:-1]))\n",
    "\n"
   ]
  },
  {
   "cell_type": "code",
   "execution_count": 29,
   "metadata": {},
   "outputs": [
    {
     "data": {
      "text/plain": [
       "'2-(2-Hydroxyethyl)-1-(2-methoxyphenyl)-1-propanol'"
      ]
     },
     "execution_count": 29,
     "metadata": {},
     "output_type": "execute_result"
    }
   ],
   "source": [
    "\"\".join(generate_output(\"C_{7}H_{11}NO_{5}\", temperature=.01)[1:-1])"
   ]
  },
  {
   "cell_type": "markdown",
   "metadata": {},
   "source": [
    "## Homework part 2 - chemistry (6 pt total)\n",
    "\n",
    "* [4pts] Complete notebook and make sure target sequence is being generated.\n",
    "* [2pts] Modify train cycle to output sequences with different sampling strategies (varying t in range $[0, + \\infty)$ and try to find out which sampling strategy is the best for current task)\n"
   ]
  },
  {
   "cell_type": "markdown",
   "metadata": {},
   "source": [
    "## [bonus] [2pts]  Latex display\n",
    "Swap target and source and learn name->formula, then try to reach quality when almos any generated sequence is a valid Latex formula and implement its prinitng using IPython magic in jupyter. It would be good if you create a demo and pass there some chemical (or not?) names"
   ]
  },
  {
   "cell_type": "code",
   "execution_count": null,
   "metadata": {
    "collapsed": true
   },
   "outputs": [],
   "source": [
    "import IPython\n",
    "z = IPython.display.Latex(data='$2+2$')\n",
    "IPython.display.display(z)"
   ]
  },
  {
   "cell_type": "markdown",
   "metadata": {},
   "source": [
    "# And now,\n",
    "* try lstm/gru\n",
    "* try several layers\n",
    "* try mtg cards\n",
    "* try your own dataset of any kind"
   ]
  },
  {
   "cell_type": "code",
   "execution_count": null,
   "metadata": {
    "collapsed": true
   },
   "outputs": [],
   "source": []
  }
 ],
 "metadata": {
  "anaconda-cloud": {},
  "kernelspec": {
   "display_name": "Python 3",
   "language": "python",
   "name": "python3"
  },
  "language_info": {
   "codemirror_mode": {
    "name": "ipython",
    "version": 3
   },
   "file_extension": ".py",
   "mimetype": "text/x-python",
   "name": "python",
   "nbconvert_exporter": "python",
   "pygments_lexer": "ipython3",
   "version": "3.5.2"
  }
 },
 "nbformat": 4,
 "nbformat_minor": 1
}
